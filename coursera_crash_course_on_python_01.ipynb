{
  "cells": [
    {
      "cell_type": "markdown",
      "metadata": {
        "colab_type": "text",
        "id": "view-in-github"
      },
      "source": [
        "<a href=\"https://colab.research.google.com/github/danielhendra0046/coursera-crash-course-on-python/blob/master/coursera_crash_course_on_python_01.ipynb\" target=\"_parent\"><img src=\"https://colab.research.google.com/assets/colab-badge.svg\" alt=\"Open In Colab\"/></a>"
      ]
    },
    {
      "cell_type": "markdown",
      "metadata": {},
      "source": [
        "# 6 NOVEMBER 2023"
      ]
    },
    {
      "cell_type": "markdown",
      "metadata": {},
      "source": [
        "## More about string"
      ]
    },
    {
      "cell_type": "code",
      "execution_count": 9,
      "metadata": {
        "colab": {
          "base_uri": "https://localhost:8080/"
        },
        "id": "sIDxqLwGfxQG",
        "outputId": "ea825161-5203-4da0-d903-d0f44f5d550d"
      },
      "outputs": [
        {
          "name": "stdout",
          "output_type": "stream",
          "text": [
            "Hello Manny, your lucky number is 15\n",
            "Your lucky number is 15, Manny.\n"
          ]
        }
      ],
      "source": [
        "name = \"Manny\"\n",
        "number = len(name) * 3\n",
        "print(\"Hello {}, your lucky number is {}\".format(name, number))\n",
        "\n",
        "print(\"Your lucky number is {number}, {name}.\".format(name=name, number=len(name)*3))"
      ]
    },
    {
      "cell_type": "code",
      "execution_count": 11,
      "metadata": {},
      "outputs": [
        {
          "name": "stdout",
          "output_type": "stream",
          "text": [
            "7.5 8.175\n",
            "Base price: $7.50. With Tax: $8.18\n"
          ]
        }
      ],
      "source": [
        "# print only 2 decimals, how to do that:\n",
        "\n",
        "price = 7.5\n",
        "with_tax = price * 1.09\n",
        "print(price, with_tax)\n",
        "\n",
        "print(\"Base price: ${:.2f}. With Tax: ${:.2f}\".format(price, with_tax)) # ask a computer to print on format float, 2 number after coma"
      ]
    },
    {
      "cell_type": "markdown",
      "metadata": {},
      "source": [
        "other about format string"
      ]
    },
    {
      "cell_type": "code",
      "execution_count": 25,
      "metadata": {},
      "outputs": [
        {
          "name": "stdout",
          "output_type": "stream",
          "text": [
            "apple carrot banana\n"
          ]
        }
      ],
      "source": [
        "first = \"apple\"\n",
        "second = \"banana\"\n",
        "third = \"carrot\"\n",
        "\n",
        "formatted_string = \"{0} {2} {1}\".format(first, second, third)\n",
        "print(formatted_string)"
      ]
    },
    {
      "cell_type": "code",
      "execution_count": 36,
      "metadata": {},
      "outputs": [
        {
          "data": {
            "text/plain": [
              "'tatang'"
            ]
          },
          "execution_count": 36,
          "metadata": {},
          "output_type": "execute_result"
        }
      ],
      "source": [
        "# this is example of replace method\n",
        "\n",
        "string = \"ucup\"\n",
        "string.replace(\"ucup\", \"tatang\")\n"
      ]
    },
    {
      "cell_type": "code",
      "execution_count": 69,
      "metadata": {},
      "outputs": [
        {
          "name": "stdout",
          "output_type": "stream",
          "text": [
            "True\n",
            "False\n",
            "True\n"
          ]
        }
      ],
      "source": [
        "# this is a example again\n",
        "# seruuuuuuuuuuu\n",
        "\n",
        "def mirrored_string(my_string):\n",
        "    forwards = \"\"\n",
        "    backwards = \"\"\n",
        "\n",
        "    for character in my_string:\n",
        "        if character.isalpha():\n",
        "            forwards += character\n",
        "            backwards = character + backwards\n",
        "\n",
        "    if forwards.lower() == backwards.lower():\n",
        "        return True\n",
        "    return False\n",
        "    \n",
        "    \n",
        "print(mirrored_string(\"123333 Noon\"))\n",
        "print(mirrored_string(\"Was it a car or cat I saw\"))\n",
        "print(mirrored_string(\"'66eve, Madam Eve66\"))"
      ]
    },
    {
      "cell_type": "code",
      "execution_count": 72,
      "metadata": {},
      "outputs": [
        {
          "name": "stdout",
          "output_type": "stream",
          "text": [
            "12 ounces equals 0.75 pounds\n"
          ]
        }
      ],
      "source": [
        "# example of format string with 2 numbers behind the comma\n",
        "\n",
        "def convert_weight(ounces):\n",
        "    pounds = ounces/16\n",
        "\n",
        "    result = \"{} ounces equals {:.2f} pounds\".format(ounces,pounds)\n",
        "    return(result)\n",
        "\n",
        "print(convert_weight(12))"
      ]
    },
    {
      "cell_type": "code",
      "execution_count": 77,
      "metadata": {},
      "outputs": [
        {
          "name": "stdout",
          "output_type": "stream",
          "text": [
            "Last year's annual report will be released in March 2024\n",
            "In April, the CEO will hold a conference\n",
            "The convention is scheduled for June\n"
          ]
        }
      ],
      "source": [
        "def replace_date(schedule, old_date, new_date):\n",
        "    if schedule.endswith(old_date):\n",
        "        p = len(old_date)\n",
        "        new_schedule = schedule[:-p] + schedule[-p:].replace(old_date, new_date)\n",
        "        return new_schedule\n",
        "    return schedule\n",
        "\n",
        "print(replace_date(\"Last year's annual report will be released in March 2023\", \"2023\", \"2024\"))\n",
        "print(replace_date(\"In April, the CEO will hold a conference\", \"April\", \"May\"))\n",
        "print(replace_date(\"The convention is scheduled for October\", \"October\", \"June\"))"
      ]
    },
    {
      "cell_type": "markdown",
      "metadata": {},
      "source": [
        "Quiz: String"
      ]
    },
    {
      "cell_type": "code",
      "execution_count": 79,
      "metadata": {},
      "outputs": [
        {
          "name": "stdout",
          "output_type": "stream",
          "text": [
            "True\n",
            "False\n",
            "True\n"
          ]
        }
      ],
      "source": [
        "def is_palindrome(input_string):\n",
        "    # Two variables are initialized as string date types using empty \n",
        "    # quotes: \"reverse_string\" to hold the \"input_string\" in reverse\n",
        "    # order and \"new_string\" to hold the \"input_string\" minus the \n",
        "    # spaces between words, if any are found.\n",
        "    new_string = \"\"\n",
        "    reverse_string = \"\"\n",
        "\n",
        "    # Complete the for loop to iterate through each letter of the\n",
        "    # \"input_string\"\n",
        "    for letter in input_string:\n",
        "\n",
        "        # The if-statement checks if the \"letter\" is not a space.\n",
        "        if letter != \" \":\n",
        "\n",
        "            # If True, add the \"letter\" to the end of \"new_string\" and\n",
        "            # to the front of \"reverse_string\". If False (if a space\n",
        "            # is detected), no action is needed. Exit the if-block.\n",
        "            new_string = new_string + letter\n",
        "            reverse_string = letter + reverse_string\n",
        "\n",
        "    # Complete the if-statement to compare the \"new_string\" to the\n",
        "    # \"reverse_string\". Remember that Python is case-sensitive when\n",
        "    # creating the string comparison code. \n",
        "    if new_string.lower() == reverse_string.lower():\n",
        "\n",
        "        # If True, the \"input_string\" contains a palindrome.\n",
        "        return True\n",
        "\t\t\n",
        "    # Otherwise, return False.\n",
        "    return False\n",
        "\n",
        "\n",
        "print(is_palindrome(\"Never Odd or Even\")) # Should be True\n",
        "print(is_palindrome(\"abc\")) # Should be False\n",
        "print(is_palindrome(\"kayak\")) # Should be True"
      ]
    }
  ],
  "metadata": {
    "colab": {
      "authorship_tag": "ABX9TyNh6FI3S80/cXIQ1HNi6hA1",
      "include_colab_link": true,
      "provenance": []
    },
    "kernelspec": {
      "display_name": "Python 3",
      "name": "python3"
    },
    "language_info": {
      "name": "python",
      "version": "3.11.6"
    }
  },
  "nbformat": 4,
  "nbformat_minor": 0
}
