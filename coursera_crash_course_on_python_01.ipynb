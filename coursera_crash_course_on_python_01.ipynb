{
  "cells": [
    {
      "cell_type": "markdown",
      "metadata": {
        "colab_type": "text",
        "id": "view-in-github"
      },
      "source": [
        "<a href=\"https://colab.research.google.com/github/danielhendra0046/coursera-crash-course-on-python/blob/master/coursera_crash_course_on_python_01.ipynb\" target=\"_parent\"><img src=\"https://colab.research.google.com/assets/colab-badge.svg\" alt=\"Open In Colab\"/></a>"
      ]
    },
    {
      "cell_type": "markdown",
      "metadata": {},
      "source": [
        "# 6 NOVEMBER 2023"
      ]
    },
    {
      "cell_type": "markdown",
      "metadata": {},
      "source": [
        "## More about string"
      ]
    },
    {
      "cell_type": "code",
      "execution_count": 9,
      "metadata": {
        "colab": {
          "base_uri": "https://localhost:8080/"
        },
        "id": "sIDxqLwGfxQG",
        "outputId": "ea825161-5203-4da0-d903-d0f44f5d550d"
      },
      "outputs": [
        {
          "name": "stdout",
          "output_type": "stream",
          "text": [
            "Hello Manny, your lucky number is 15\n",
            "Your lucky number is 15, Manny.\n"
          ]
        }
      ],
      "source": [
        "name = \"Manny\"\n",
        "number = len(name) * 3\n",
        "print(\"Hello {}, your lucky number is {}\".format(name, number))\n",
        "\n",
        "print(\"Your lucky number is {number}, {name}.\".format(name=name, number=len(name)*3))"
      ]
    },
    {
      "cell_type": "code",
      "execution_count": 11,
      "metadata": {},
      "outputs": [
        {
          "name": "stdout",
          "output_type": "stream",
          "text": [
            "7.5 8.175\n",
            "Base price: $7.50. With Tax: $8.18\n"
          ]
        }
      ],
      "source": [
        "# print only 2 decimals, how to do that:\n",
        "\n",
        "price = 7.5\n",
        "with_tax = price * 1.09\n",
        "print(price, with_tax)\n",
        "\n",
        "print(\"Base price: ${:.2f}. With Tax: ${:.2f}\".format(price, with_tax)) # ask a computer to print on format float, 2 number after coma"
      ]
    },
    {
      "cell_type": "markdown",
      "metadata": {},
      "source": [
        "other about format string"
      ]
    },
    {
      "cell_type": "code",
      "execution_count": 25,
      "metadata": {},
      "outputs": [
        {
          "name": "stdout",
          "output_type": "stream",
          "text": [
            "apple carrot banana\n"
          ]
        }
      ],
      "source": [
        "first = \"apple\"\n",
        "second = \"banana\"\n",
        "third = \"carrot\"\n",
        "\n",
        "formatted_string = \"{0} {2} {1}\".format(first, second, third)\n",
        "print(formatted_string)"
      ]
    },
    {
      "cell_type": "code",
      "execution_count": 36,
      "metadata": {},
      "outputs": [
        {
          "data": {
            "text/plain": [
              "'tatang'"
            ]
          },
          "execution_count": 36,
          "metadata": {},
          "output_type": "execute_result"
        }
      ],
      "source": [
        "# this is example of replace method\n",
        "\n",
        "string = \"ucup\"\n",
        "string.replace(\"ucup\", \"tatang\")\n"
      ]
    },
    {
      "cell_type": "code",
      "execution_count": 69,
      "metadata": {},
      "outputs": [
        {
          "name": "stdout",
          "output_type": "stream",
          "text": [
            "True\n",
            "False\n",
            "True\n"
          ]
        }
      ],
      "source": [
        "# this is a example again\n",
        "# seruuuuuuuuuuu\n",
        "\n",
        "def mirrored_string(my_string):\n",
        "    forwards = \"\"\n",
        "    backwards = \"\"\n",
        "\n",
        "    for character in my_string:\n",
        "        if character.isalpha():\n",
        "            forwards += character\n",
        "            backwards = character + backwards\n",
        "\n",
        "    if forwards.lower() == backwards.lower():\n",
        "        return True\n",
        "    return False\n",
        "    \n",
        "    \n",
        "print(mirrored_string(\"123333 Noon\"))\n",
        "print(mirrored_string(\"Was it a car or cat I saw\"))\n",
        "print(mirrored_string(\"'66eve, Madam Eve66\"))"
      ]
    },
    {
      "cell_type": "code",
      "execution_count": 72,
      "metadata": {},
      "outputs": [
        {
          "name": "stdout",
          "output_type": "stream",
          "text": [
            "12 ounces equals 0.75 pounds\n"
          ]
        }
      ],
      "source": [
        "# example of format string with 2 numbers behind the comma\n",
        "\n",
        "def convert_weight(ounces):\n",
        "    pounds = ounces/16\n",
        "\n",
        "    result = \"{} ounces equals {:.2f} pounds\".format(ounces,pounds)\n",
        "    return(result)\n",
        "\n",
        "print(convert_weight(12))"
      ]
    },
    {
      "cell_type": "code",
      "execution_count": 77,
      "metadata": {},
      "outputs": [
        {
          "name": "stdout",
          "output_type": "stream",
          "text": [
            "Last year's annual report will be released in March 2024\n",
            "In April, the CEO will hold a conference\n",
            "The convention is scheduled for June\n"
          ]
        }
      ],
      "source": [
        "def replace_date(schedule, old_date, new_date):\n",
        "    if schedule.endswith(old_date):\n",
        "        p = len(old_date)\n",
        "        new_schedule = schedule[:-p] + schedule[-p:].replace(old_date, new_date)\n",
        "        return new_schedule\n",
        "    return schedule\n",
        "\n",
        "print(replace_date(\"Last year's annual report will be released in March 2023\", \"2023\", \"2024\"))\n",
        "print(replace_date(\"In April, the CEO will hold a conference\", \"April\", \"May\"))\n",
        "print(replace_date(\"The convention is scheduled for October\", \"October\", \"June\"))"
      ]
    },
    {
      "cell_type": "markdown",
      "metadata": {},
      "source": [
        "Quiz: String"
      ]
    },
    {
      "cell_type": "code",
      "execution_count": 79,
      "metadata": {},
      "outputs": [
        {
          "name": "stdout",
          "output_type": "stream",
          "text": [
            "True\n",
            "False\n",
            "True\n"
          ]
        }
      ],
      "source": [
        "def is_palindrome(input_string):\n",
        "    # Two variables are initialized as string date types using empty \n",
        "    # quotes: \"reverse_string\" to hold the \"input_string\" in reverse\n",
        "    # order and \"new_string\" to hold the \"input_string\" minus the \n",
        "    # spaces between words, if any are found.\n",
        "    new_string = \"\"\n",
        "    reverse_string = \"\"\n",
        "\n",
        "    # Complete the for loop to iterate through each letter of the\n",
        "    # \"input_string\"\n",
        "    for letter in input_string:\n",
        "\n",
        "        # The if-statement checks if the \"letter\" is not a space.\n",
        "        if letter != \" \":\n",
        "\n",
        "            # If True, add the \"letter\" to the end of \"new_string\" and\n",
        "            # to the front of \"reverse_string\". If False (if a space\n",
        "            # is detected), no action is needed. Exit the if-block.\n",
        "            new_string = new_string + letter\n",
        "            reverse_string = letter + reverse_string\n",
        "\n",
        "    # Complete the if-statement to compare the \"new_string\" to the\n",
        "    # \"reverse_string\". Remember that Python is case-sensitive when\n",
        "    # creating the string comparison code. \n",
        "    if new_string.lower() == reverse_string.lower():\n",
        "\n",
        "        # If True, the \"input_string\" contains a palindrome.\n",
        "        return True\n",
        "\t\t\n",
        "    # Otherwise, return False.\n",
        "    return False\n",
        "\n",
        "\n",
        "print(is_palindrome(\"Never Odd or Even\")) # Should be True\n",
        "print(is_palindrome(\"abc\")) # Should be False\n",
        "print(is_palindrome(\"kayak\")) # Should be True"
      ]
    },
    {
      "cell_type": "markdown",
      "metadata": {},
      "source": [
        "## List"
      ]
    },
    {
      "cell_type": "code",
      "execution_count": 81,
      "metadata": {},
      "outputs": [
        {
          "data": {
            "text/plain": [
              "list"
            ]
          },
          "execution_count": 81,
          "metadata": {},
          "output_type": "execute_result"
        }
      ],
      "source": [
        "x = [\"Now\", \"We\", \"are\", \"cooking!\"] # data with a square bracket is a list\n",
        "type(x)"
      ]
    },
    {
      "cell_type": "code",
      "execution_count": 107,
      "metadata": {},
      "outputs": [
        {
          "name": "stdout",
          "output_type": "stream",
          "text": [
            "lesson\n",
            "\n"
          ]
        }
      ],
      "source": [
        "def get_word(sentence, n):\n",
        "    if n > 0:\n",
        "        words = sentence.split()\n",
        "        if n <= len(words): # 5 <= 4\n",
        "            return(words[n-1])\n",
        "    return(\"\")\n",
        "\n",
        "print(get_word(\"This is a lesson about lists\", 4)) # lesson\n",
        "print(get_word(\"Now we are cooking!\", 5)) # nothing to display"
      ]
    },
    {
      "cell_type": "code",
      "execution_count": 113,
      "metadata": {},
      "outputs": [
        {
          "data": {
            "text/plain": [
              "False"
            ]
          },
          "execution_count": 113,
          "metadata": {},
          "output_type": "execute_result"
        }
      ],
      "source": [
        "halo = \"this is a lesson\"\n",
        "hai = halo.split()\n",
        "\n",
        "\"haha\" in hai"
      ]
    },
    {
      "cell_type": "markdown",
      "metadata": {},
      "source": [
        "using method that can modify lists"
      ]
    },
    {
      "cell_type": "code",
      "execution_count": 127,
      "metadata": {},
      "outputs": [
        {
          "name": "stdout",
          "output_type": "stream",
          "text": [
            "['Pinneaple', 'Banana', 'Apple', 'Melon', 'Kiwi']\n",
            "['Orange', 'Pinneaple', 'Banana', 'Apple', 'Melon', 'Kiwi']\n",
            "['Orange', 'Pinneaple', 'Banana', 'Apple', 'Melon', 'Kiwi', 'Peach']\n",
            "['Orange', 'Pinneaple', 'Banana', 'Apple', 'Kiwi', 'Peach']\n",
            "['Orange', 'Pinneaple', 'Banana', 'Kiwi', 'Peach']\n",
            "['Orange', 'Pinneaple', 'Strawberry', 'Kiwi', 'Peach']\n"
          ]
        }
      ],
      "source": [
        "fruits = [\"Pinneaple\", \"Banana\", \"Apple\", \"Melon\"]\n",
        "\n",
        "# append -> insert new list on the end\n",
        "fruits.append(\"Kiwi\")\n",
        "print(fruits)\n",
        "\n",
        "# insert -> to insert list anyplace we want\n",
        "fruits.insert(0, \"Orange\")\n",
        "print(fruits)\n",
        "\n",
        "fruits.insert(25, \"Peach\") # use number larger than the range\n",
        "print(fruits)\n",
        "\n",
        "# remove -> to remove by string\n",
        "\n",
        "fruits.remove(\"Melon\")\n",
        "print(fruits)\n",
        "\n",
        "# pop -> to remove list with index\n",
        "\n",
        "fruits.pop(3)\n",
        "print(fruits)\n",
        "\n",
        "# to replace with index\n",
        "\n",
        "fruits[2] = \"Strawberry\"\n",
        "print(fruits)\n"
      ]
    },
    {
      "cell_type": "markdown",
      "metadata": {},
      "source": [
        "Learn About Tuples"
      ]
    },
    {
      "cell_type": "markdown",
      "metadata": {},
      "source": [
        "Tuples can't modifying because sequence position have a meaning"
      ]
    },
    {
      "cell_type": "code",
      "execution_count": 1,
      "metadata": {},
      "outputs": [
        {
          "name": "stdout",
          "output_type": "stream",
          "text": [
            "1 - Ashley\n",
            "2 - Dylan\n",
            "3 - Reese\n"
          ]
        }
      ],
      "source": [
        "# enumerate\n",
        "\n",
        "winners = [\"Ashley\", \"Dylan\", \"Reese\"]\n",
        "for index, person in enumerate(winners):\n",
        "    print(\"{} - {}\".format(index + 1, person))"
      ]
    },
    {
      "cell_type": "code",
      "execution_count": 8,
      "metadata": {},
      "outputs": [
        {
          "name": "stdout",
          "output_type": "stream",
          "text": [
            "['Alex Diego <alex@example.com>', 'Daniel Hendra <daniel@example.com>']\n"
          ]
        }
      ],
      "source": [
        "def full_emails(people):\n",
        "    result = []\n",
        "    for email, name in people:\n",
        "        result.append(\"{} <{}>\".format(name, email))\n",
        "    return result\n",
        "\n",
        "print(full_emails([(\"alex@example.com\", \"Alex Diego\"), (\"daniel@example.com\", \"Daniel Hendra\")]))"
      ]
    },
    {
      "cell_type": "code",
      "execution_count": 13,
      "metadata": {},
      "outputs": [
        {
          "name": "stdout",
          "output_type": "stream",
          "text": [
            "['a', 'c', 'e', 'g']\n",
            "['Orange', 'Strawberry', 'Peach']\n"
          ]
        }
      ],
      "source": [
        "# Example of enumerate\n",
        "\n",
        "def skip_elements(elements):\n",
        "\t# code goes here\n",
        "    new_list = []\n",
        "    for index, element in enumerate(elements):\n",
        "        if index % 2 == 0:\n",
        "            new_list.append(element)\n",
        "    return new_list\n",
        "\n",
        "print(skip_elements([\"a\", \"b\", \"c\", \"d\", \"e\", \"f\", \"g\"])) # Should be ['a', 'c', 'e', 'g']\n",
        "print(skip_elements(['Orange', 'Pineapple', 'Strawberry', 'Kiwi', 'Peach'])) # Should be ['Orange', 'Strawberry', 'Peach']"
      ]
    },
    {
      "cell_type": "markdown",
      "metadata": {},
      "source": [
        "List Comprehension"
      ]
    },
    {
      "cell_type": "code",
      "execution_count": 15,
      "metadata": {},
      "outputs": [
        {
          "name": "stdout",
          "output_type": "stream",
          "text": [
            "[7, 14, 21, 28, 35, 42, 49, 56, 63, 70]\n",
            "[7, 14, 21, 28, 35, 42, 49, 56, 63, 70]\n"
          ]
        }
      ],
      "source": [
        "# example 1\n",
        "multiples = []\n",
        "for x in range(1,11):\n",
        "    multiples.append(x*7)\n",
        "\n",
        "print(multiples)\n",
        "\n",
        "# example 2\n",
        "multiples = [ x*7 for x in range(1,11) ]\n",
        "\n",
        "print(multiples)"
      ]
    },
    {
      "cell_type": "code",
      "execution_count": 18,
      "metadata": {},
      "outputs": [
        {
          "name": "stdout",
          "output_type": "stream",
          "text": [
            "[6, 4, 4, 2, 4, 1]\n"
          ]
        }
      ],
      "source": [
        "languages = [\"Python\", \"Perl\", \"Ruby\", \"Go\", \"Java\", \"C\"]\n",
        "lengths = [len(language) for language in languages]\n",
        "print(lengths)"
      ]
    },
    {
      "cell_type": "code",
      "execution_count": 19,
      "metadata": {},
      "outputs": [
        {
          "name": "stdout",
          "output_type": "stream",
          "text": [
            "[0, 3, 6, 9, 12, 15, 18, 21, 24, 27, 30, 33, 36, 39, 42, 45, 48, 51, 54, 57, 60, 63, 66, 69, 72, 75, 78, 81, 84, 87, 90, 93, 96, 99]\n"
          ]
        }
      ],
      "source": [
        "z = [x for x in range(0,101) if x % 3 == 0]\n",
        "print(z)"
      ]
    },
    {
      "cell_type": "markdown",
      "metadata": {},
      "source": [
        "# 7 NOVEMBER 2023"
      ]
    },
    {
      "cell_type": "markdown",
      "metadata": {},
      "source": [
        "## More about List"
      ]
    },
    {
      "cell_type": "code",
      "execution_count": 21,
      "metadata": {},
      "outputs": [
        {
          "name": "stdout",
          "output_type": "stream",
          "text": [
            "[4, 9]\n",
            "[1, 4, 9, 16, 25]\n",
            "[0, 1, 4, 9, 16, 25, 36, 49, 64, 81, 100]\n"
          ]
        }
      ],
      "source": [
        "# list comprehension\n",
        "\n",
        "def squares(start, end):\n",
        "    return [n*n for n in range(start,end+1)]\n",
        "\n",
        "\n",
        "print(squares(2, 3))  # Should print [4, 9]\n",
        "print(squares(1, 5))  # Should print [1, 4, 9, 16, 25]\n",
        "print(squares(0, 10)) # Should print [0, 1, 4, 9, 16, 25, 36, 49, 64, 81, 100]"
      ]
    },
    {
      "cell_type": "markdown",
      "metadata": {},
      "source": [
        "Coding quiz"
      ]
    },
    {
      "cell_type": "code",
      "execution_count": 22,
      "metadata": {},
      "outputs": [
        {
          "name": "stdout",
          "output_type": "stream",
          "text": [
            "['January 2024', 'May 2025', 'April 2024', 'August 2024', 'September 2025', 'December 2024']\n"
          ]
        }
      ],
      "source": [
        "years = [\"January 2023\", \"May 2025\", \"April 2023\", \"August 2024\", \"September 2025\", \"December 2023\"]\n",
        "\n",
        "updated_years = []\n",
        "\n",
        "for year in years:\n",
        "    if year.endswith(\"2023\"):\n",
        "        new = year.replace(\"2023\",\"2024\")\n",
        "        updated_years.append(new)\n",
        "    else:\n",
        "        updated_years.append(year)\n",
        "\n",
        "\n",
        "print(updated_years) \n",
        "# Should print [\"January 2024\", \"May 2025\", \"April 2024\", \"August 2024\", \"September 2025\", \"December 2024\"]"
      ]
    },
    {
      "cell_type": "code",
      "execution_count": 23,
      "metadata": {},
      "outputs": [
        {
          "name": "stdout",
          "output_type": "stream",
          "text": [
            "['January 2024', 'May 2025', 'April 2024', 'August 2024', 'September 2025', 'December 2024']\n"
          ]
        }
      ],
      "source": [
        "years = [\"January 2023\", \"May 2025\", \"April 2023\", \"August 2024\", \"September 2025\", \"December 2023\"]\n",
        "\n",
        "updated_years = [year.replace(\"2023\",\"2024\") if year[-4:] == \"2023\" else year for year in years]\n",
        "\n",
        "\n",
        "print(updated_years) \n",
        "# Should print [\"January 2024\", \"May 2025\", \"April 2024\", \"August 2024\", \"September 2025\", \"December 2024\"]"
      ]
    },
    {
      "cell_type": "code",
      "execution_count": 24,
      "metadata": {},
      "outputs": [
        {
          "name": "stdout",
          "output_type": "stream",
          "text": [
            "one-1 two-2 three-3 four-4 five-5 \n"
          ]
        }
      ],
      "source": [
        "def change_string(given_string):\n",
        "\n",
        "    new_string = \"\"\n",
        "    new_list = given_string.split()\n",
        "\n",
        "    for element in new_list:\n",
        "\n",
        "        new_string += element[1:] + \"-\"  + element[0] + \" \"\n",
        "\n",
        "    return new_string\n",
        "\n",
        "\n",
        "print(change_string(\"1one 2two 3three 4four 5five\")) \n",
        "# Should print \"one-1 two-2 three-3 four-4 five-5\"  "
      ]
    },
    {
      "cell_type": "code",
      "execution_count": 25,
      "metadata": {},
      "outputs": [
        {
          "name": "stdout",
          "output_type": "stream",
          "text": [
            "The Printers list includes: Color Printer, Black and White Printer, 3-D Printer\n"
          ]
        }
      ],
      "source": [
        "def list_elements(list_name, elements):\n",
        "\n",
        "    return \"The \" + list_name + \" list includes: \" + \", \".join(elements)\n",
        "\n",
        "\n",
        "print(list_elements(\"Printers\", [\"Color Printer\", \"Black and White Printer\", \"3-D Printer\"])) \n",
        "# Should print \"The Printers list includes: Color Printer, Black and White Printer, 3-D Printer\""
      ]
    },
    {
      "cell_type": "markdown",
      "metadata": {},
      "source": [
        "Practice Quiz: Lists"
      ]
    },
    {
      "cell_type": "code",
      "execution_count": 28,
      "metadata": {},
      "outputs": [
        {
          "name": "stdout",
          "output_type": "stream",
          "text": [
            "['program.c', 'stdio.h', 'sample.h', 'a.out', 'math.h', 'hpp.out']\n"
          ]
        }
      ],
      "source": [
        "filenames = [\"program.c\", \"stdio.hpp\", \"sample.hpp\", \"a.out\", \"math.hpp\", \"hpp.out\"]\n",
        "# Generate newfilenames as a list containing the new filenames\n",
        "# using as many lines of code as your chosen method requires.\n",
        "newfilenames = []\n",
        "\n",
        "for filename in filenames:\n",
        "    if filename.endswith(\"hpp\"):\n",
        "        new = filename.replace(\"hpp\", \"h\")\n",
        "        newfilenames.append(new)\n",
        "    else:\n",
        "        newfilenames.append(filename)\n",
        "\n",
        "print(newfilenames) \n",
        "# Should be [\"program.c\", \"stdio.h\", \"sample.h\", \"a.out\", \"math.h\", \"hpp.out\"]"
      ]
    },
    {
      "cell_type": "code",
      "execution_count": 65,
      "metadata": {},
      "outputs": [
        {
          "name": "stdout",
          "output_type": "stream",
          "text": [
            "ellohay owhay reaay ouyay\n",
            "rogrammingpay niay ythonpay siay unfay\n"
          ]
        }
      ],
      "source": [
        "def pig_latin(text):\n",
        "  say = []\n",
        "  # Separate the text into words\n",
        "  words = text.split()\n",
        "  for word in words:\n",
        "    # Create the pig latin word and add it to the list\n",
        "    word = word[1:] + word[0] + \"ay\"\n",
        "    say.append(word)\n",
        "\n",
        "    # Turn the list back into a phrase\n",
        "  return \" \".join(say)\n",
        "\t\t\n",
        "print(pig_latin(\"hello how are you\")) # Should be \"ellohay owhay reaay ouyay\"\n",
        "print(pig_latin(\"programming in python is fun\")) # Should be \"rogrammingpay niay ythonpay siay unfay\""
      ]
    },
    {
      "cell_type": "code",
      "execution_count": 54,
      "metadata": {},
      "outputs": [
        {
          "name": "stdout",
          "output_type": "stream",
          "text": [
            "Marketing: Mike, Karen, Jake, Tasha\n",
            "Engineering: Kim, Jay, Tom\n",
            "Users: \n"
          ]
        }
      ],
      "source": [
        "def group_list(group, users):\n",
        "  members = group + \": \" + \", \".join(users)\n",
        "  return members\n",
        "\n",
        "print(group_list(\"Marketing\", [\"Mike\", \"Karen\", \"Jake\", \"Tasha\"])) # Should be \"Marketing: Mike, Karen, Jake, Tasha\"\n",
        "print(group_list(\"Engineering\", [\"Kim\", \"Jay\", \"Tom\"])) # Should be \"Engineering: Kim, Jay, Tom\"\n",
        "print(group_list(\"Users\", \"\")) # Should be \"Users:\""
      ]
    },
    {
      "cell_type": "code",
      "execution_count": 62,
      "metadata": {},
      "outputs": [
        {
          "name": "stdout",
          "output_type": "stream",
          "text": [
            "Ken is 30 years old and works as Chef\n",
            "Pat is 35 years old and works as Lawyer\n",
            "Amanda is 25 years old and works as Engineer\n"
          ]
        },
        {
          "data": {
            "text/plain": [
              "'\\nOutput should match:\\nKen is 30 years old and works as Chef\\nPat is 35 years old and works as Lawyer\\nAmanda is 25 years old and works as Engineer\\n'"
            ]
          },
          "execution_count": 62,
          "metadata": {},
          "output_type": "execute_result"
        }
      ],
      "source": [
        "def guest_list(guests):\n",
        "\tfor guest in guests:\n",
        "\t\tname, age, profession = guest\n",
        "\t\tprint(\"{} is {} years old and works as {}\".format(name, age, profession))\n",
        "\n",
        "guest_list([('Ken', 30, \"Chef\"), (\"Pat\", 35, 'Lawyer'), ('Amanda', 25, \"Engineer\")])\n",
        "\n",
        "#Click Run to submit code\n",
        "\"\"\"\n",
        "Output should match:\n",
        "Ken is 30 years old and works as Chef\n",
        "Pat is 35 years old and works as Lawyer\n",
        "Amanda is 25 years old and works as Engineer\n",
        "\"\"\""
      ]
    }
  ],
  "metadata": {
    "colab": {
      "authorship_tag": "ABX9TyNh6FI3S80/cXIQ1HNi6hA1",
      "include_colab_link": true,
      "provenance": []
    },
    "kernelspec": {
      "display_name": "Python 3",
      "name": "python3"
    },
    "language_info": {
      "codemirror_mode": {
        "name": "ipython",
        "version": 3
      },
      "file_extension": ".py",
      "mimetype": "text/x-python",
      "name": "python",
      "nbconvert_exporter": "python",
      "pygments_lexer": "ipython3",
      "version": "3.11.6"
    }
  },
  "nbformat": 4,
  "nbformat_minor": 0
}
