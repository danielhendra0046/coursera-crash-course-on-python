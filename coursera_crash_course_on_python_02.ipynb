{
  "cells": [
    {
      "cell_type": "markdown",
      "metadata": {
        "colab_type": "text",
        "id": "view-in-github"
      },
      "source": [
        "<a href=\"https://colab.research.google.com/github/danielhendra0046/coursera-crash-course-on-python/blob/master/coursera_crash_course_on_python_02.ipynb\" target=\"_parent\"><img src=\"https://colab.research.google.com/assets/colab-badge.svg\" alt=\"Open In Colab\"/></a>"
      ]
    },
    {
      "cell_type": "markdown",
      "metadata": {},
      "source": [
        "# 9 NOVEMBER 2023"
      ]
    },
    {
      "cell_type": "markdown",
      "metadata": {},
      "source": [
        "## OOP"
      ]
    },
    {
      "cell_type": "markdown",
      "metadata": {},
      "source": [
        "### Introduction OOP"
      ]
    },
    {
      "cell_type": "code",
      "execution_count": 1,
      "metadata": {
        "colab": {
          "base_uri": "https://localhost:8080/"
        },
        "id": "SPl-oGDKe5An",
        "outputId": "aa239aa2-7120-406a-87e7-d28eb3c05458"
      },
      "outputs": [
        {
          "name": "stdout",
          "output_type": "stream",
          "text": [
            "Help on class str in module builtins:\n",
            "\n",
            "class str(object)\n",
            " |  str(object='') -> str\n",
            " |  str(bytes_or_buffer[, encoding[, errors]]) -> str\n",
            " |  \n",
            " |  Create a new string object from the given object. If encoding or\n",
            " |  errors is specified, then the object must expose a data buffer\n",
            " |  that will be decoded using the given encoding and error handler.\n",
            " |  Otherwise, returns the result of object.__str__() (if defined)\n",
            " |  or repr(object).\n",
            " |  encoding defaults to sys.getdefaultencoding().\n",
            " |  errors defaults to 'strict'.\n",
            " |  \n",
            " |  Methods defined here:\n",
            " |  \n",
            " |  __add__(self, value, /)\n",
            " |      Return self+value.\n",
            " |  \n",
            " |  __contains__(self, key, /)\n",
            " |      Return key in self.\n",
            " |  \n",
            " |  __eq__(self, value, /)\n",
            " |      Return self==value.\n",
            " |  \n",
            " |  __format__(self, format_spec, /)\n",
            " |      Return a formatted version of the string as described by format_spec.\n",
            " |  \n",
            " |  __ge__(self, value, /)\n",
            " |      Return self>=value.\n",
            " |  \n",
            " |  __getattribute__(self, name, /)\n",
            " |      Return getattr(self, name).\n",
            " |  \n",
            " |  __getitem__(self, key, /)\n",
            " |      Return self[key].\n",
            " |  \n",
            " |  __getnewargs__(...)\n",
            " |  \n",
            " |  __gt__(self, value, /)\n",
            " |      Return self>value.\n",
            " |  \n",
            " |  __hash__(self, /)\n",
            " |      Return hash(self).\n",
            " |  \n",
            " |  __iter__(self, /)\n",
            " |      Implement iter(self).\n",
            " |  \n",
            " |  __le__(self, value, /)\n",
            " |      Return self<=value.\n",
            " |  \n",
            " |  __len__(self, /)\n",
            " |      Return len(self).\n",
            " |  \n",
            " |  __lt__(self, value, /)\n",
            " |      Return self<value.\n",
            " |  \n",
            " |  __mod__(self, value, /)\n",
            " |      Return self%value.\n",
            " |  \n",
            " |  __mul__(self, value, /)\n",
            " |      Return self*value.\n",
            " |  \n",
            " |  __ne__(self, value, /)\n",
            " |      Return self!=value.\n",
            " |  \n",
            " |  __repr__(self, /)\n",
            " |      Return repr(self).\n",
            " |  \n",
            " |  __rmod__(self, value, /)\n",
            " |      Return value%self.\n",
            " |  \n",
            " |  __rmul__(self, value, /)\n",
            " |      Return value*self.\n",
            " |  \n",
            " |  __sizeof__(self, /)\n",
            " |      Return the size of the string in memory, in bytes.\n",
            " |  \n",
            " |  __str__(self, /)\n",
            " |      Return str(self).\n",
            " |  \n",
            " |  capitalize(self, /)\n",
            " |      Return a capitalized version of the string.\n",
            " |      \n",
            " |      More specifically, make the first character have upper case and the rest lower\n",
            " |      case.\n",
            " |  \n",
            " |  casefold(self, /)\n",
            " |      Return a version of the string suitable for caseless comparisons.\n",
            " |  \n",
            " |  center(self, width, fillchar=' ', /)\n",
            " |      Return a centered string of length width.\n",
            " |      \n",
            " |      Padding is done using the specified fill character (default is a space).\n",
            " |  \n",
            " |  count(...)\n",
            " |      S.count(sub[, start[, end]]) -> int\n",
            " |      \n",
            " |      Return the number of non-overlapping occurrences of substring sub in\n",
            " |      string S[start:end].  Optional arguments start and end are\n",
            " |      interpreted as in slice notation.\n",
            " |  \n",
            " |  encode(self, /, encoding='utf-8', errors='strict')\n",
            " |      Encode the string using the codec registered for encoding.\n",
            " |      \n",
            " |      encoding\n",
            " |        The encoding in which to encode the string.\n",
            " |      errors\n",
            " |        The error handling scheme to use for encoding errors.\n",
            " |        The default is 'strict' meaning that encoding errors raise a\n",
            " |        UnicodeEncodeError.  Other possible values are 'ignore', 'replace' and\n",
            " |        'xmlcharrefreplace' as well as any other name registered with\n",
            " |        codecs.register_error that can handle UnicodeEncodeErrors.\n",
            " |  \n",
            " |  endswith(...)\n",
            " |      S.endswith(suffix[, start[, end]]) -> bool\n",
            " |      \n",
            " |      Return True if S ends with the specified suffix, False otherwise.\n",
            " |      With optional start, test S beginning at that position.\n",
            " |      With optional end, stop comparing S at that position.\n",
            " |      suffix can also be a tuple of strings to try.\n",
            " |  \n",
            " |  expandtabs(self, /, tabsize=8)\n",
            " |      Return a copy where all tab characters are expanded using spaces.\n",
            " |      \n",
            " |      If tabsize is not given, a tab size of 8 characters is assumed.\n",
            " |  \n",
            " |  find(...)\n",
            " |      S.find(sub[, start[, end]]) -> int\n",
            " |      \n",
            " |      Return the lowest index in S where substring sub is found,\n",
            " |      such that sub is contained within S[start:end].  Optional\n",
            " |      arguments start and end are interpreted as in slice notation.\n",
            " |      \n",
            " |      Return -1 on failure.\n",
            " |  \n",
            " |  format(...)\n",
            " |      S.format(*args, **kwargs) -> str\n",
            " |      \n",
            " |      Return a formatted version of S, using substitutions from args and kwargs.\n",
            " |      The substitutions are identified by braces ('{' and '}').\n",
            " |  \n",
            " |  format_map(...)\n",
            " |      S.format_map(mapping) -> str\n",
            " |      \n",
            " |      Return a formatted version of S, using substitutions from mapping.\n",
            " |      The substitutions are identified by braces ('{' and '}').\n",
            " |  \n",
            " |  index(...)\n",
            " |      S.index(sub[, start[, end]]) -> int\n",
            " |      \n",
            " |      Return the lowest index in S where substring sub is found,\n",
            " |      such that sub is contained within S[start:end].  Optional\n",
            " |      arguments start and end are interpreted as in slice notation.\n",
            " |      \n",
            " |      Raises ValueError when the substring is not found.\n",
            " |  \n",
            " |  isalnum(self, /)\n",
            " |      Return True if the string is an alpha-numeric string, False otherwise.\n",
            " |      \n",
            " |      A string is alpha-numeric if all characters in the string are alpha-numeric and\n",
            " |      there is at least one character in the string.\n",
            " |  \n",
            " |  isalpha(self, /)\n",
            " |      Return True if the string is an alphabetic string, False otherwise.\n",
            " |      \n",
            " |      A string is alphabetic if all characters in the string are alphabetic and there\n",
            " |      is at least one character in the string.\n",
            " |  \n",
            " |  isascii(self, /)\n",
            " |      Return True if all characters in the string are ASCII, False otherwise.\n",
            " |      \n",
            " |      ASCII characters have code points in the range U+0000-U+007F.\n",
            " |      Empty string is ASCII too.\n",
            " |  \n",
            " |  isdecimal(self, /)\n",
            " |      Return True if the string is a decimal string, False otherwise.\n",
            " |      \n",
            " |      A string is a decimal string if all characters in the string are decimal and\n",
            " |      there is at least one character in the string.\n",
            " |  \n",
            " |  isdigit(self, /)\n",
            " |      Return True if the string is a digit string, False otherwise.\n",
            " |      \n",
            " |      A string is a digit string if all characters in the string are digits and there\n",
            " |      is at least one character in the string.\n",
            " |  \n",
            " |  isidentifier(self, /)\n",
            " |      Return True if the string is a valid Python identifier, False otherwise.\n",
            " |      \n",
            " |      Call keyword.iskeyword(s) to test whether string s is a reserved identifier,\n",
            " |      such as \"def\" or \"class\".\n",
            " |  \n",
            " |  islower(self, /)\n",
            " |      Return True if the string is a lowercase string, False otherwise.\n",
            " |      \n",
            " |      A string is lowercase if all cased characters in the string are lowercase and\n",
            " |      there is at least one cased character in the string.\n",
            " |  \n",
            " |  isnumeric(self, /)\n",
            " |      Return True if the string is a numeric string, False otherwise.\n",
            " |      \n",
            " |      A string is numeric if all characters in the string are numeric and there is at\n",
            " |      least one character in the string.\n",
            " |  \n",
            " |  isprintable(self, /)\n",
            " |      Return True if the string is printable, False otherwise.\n",
            " |      \n",
            " |      A string is printable if all of its characters are considered printable in\n",
            " |      repr() or if it is empty.\n",
            " |  \n",
            " |  isspace(self, /)\n",
            " |      Return True if the string is a whitespace string, False otherwise.\n",
            " |      \n",
            " |      A string is whitespace if all characters in the string are whitespace and there\n",
            " |      is at least one character in the string.\n",
            " |  \n",
            " |  istitle(self, /)\n",
            " |      Return True if the string is a title-cased string, False otherwise.\n",
            " |      \n",
            " |      In a title-cased string, upper- and title-case characters may only\n",
            " |      follow uncased characters and lowercase characters only cased ones.\n",
            " |  \n",
            " |  isupper(self, /)\n",
            " |      Return True if the string is an uppercase string, False otherwise.\n",
            " |      \n",
            " |      A string is uppercase if all cased characters in the string are uppercase and\n",
            " |      there is at least one cased character in the string.\n",
            " |  \n",
            " |  join(self, iterable, /)\n",
            " |      Concatenate any number of strings.\n",
            " |      \n",
            " |      The string whose method is called is inserted in between each given string.\n",
            " |      The result is returned as a new string.\n",
            " |      \n",
            " |      Example: '.'.join(['ab', 'pq', 'rs']) -> 'ab.pq.rs'\n",
            " |  \n",
            " |  ljust(self, width, fillchar=' ', /)\n",
            " |      Return a left-justified string of length width.\n",
            " |      \n",
            " |      Padding is done using the specified fill character (default is a space).\n",
            " |  \n",
            " |  lower(self, /)\n",
            " |      Return a copy of the string converted to lowercase.\n",
            " |  \n",
            " |  lstrip(self, chars=None, /)\n",
            " |      Return a copy of the string with leading whitespace removed.\n",
            " |      \n",
            " |      If chars is given and not None, remove characters in chars instead.\n",
            " |  \n",
            " |  partition(self, sep, /)\n",
            " |      Partition the string into three parts using the given separator.\n",
            " |      \n",
            " |      This will search for the separator in the string.  If the separator is found,\n",
            " |      returns a 3-tuple containing the part before the separator, the separator\n",
            " |      itself, and the part after it.\n",
            " |      \n",
            " |      If the separator is not found, returns a 3-tuple containing the original string\n",
            " |      and two empty strings.\n",
            " |  \n",
            " |  removeprefix(self, prefix, /)\n",
            " |      Return a str with the given prefix string removed if present.\n",
            " |      \n",
            " |      If the string starts with the prefix string, return string[len(prefix):].\n",
            " |      Otherwise, return a copy of the original string.\n",
            " |  \n",
            " |  removesuffix(self, suffix, /)\n",
            " |      Return a str with the given suffix string removed if present.\n",
            " |      \n",
            " |      If the string ends with the suffix string and that suffix is not empty,\n",
            " |      return string[:-len(suffix)]. Otherwise, return a copy of the original\n",
            " |      string.\n",
            " |  \n",
            " |  replace(self, old, new, count=-1, /)\n",
            " |      Return a copy with all occurrences of substring old replaced by new.\n",
            " |      \n",
            " |        count\n",
            " |          Maximum number of occurrences to replace.\n",
            " |          -1 (the default value) means replace all occurrences.\n",
            " |      \n",
            " |      If the optional argument count is given, only the first count occurrences are\n",
            " |      replaced.\n",
            " |  \n",
            " |  rfind(...)\n",
            " |      S.rfind(sub[, start[, end]]) -> int\n",
            " |      \n",
            " |      Return the highest index in S where substring sub is found,\n",
            " |      such that sub is contained within S[start:end].  Optional\n",
            " |      arguments start and end are interpreted as in slice notation.\n",
            " |      \n",
            " |      Return -1 on failure.\n",
            " |  \n",
            " |  rindex(...)\n",
            " |      S.rindex(sub[, start[, end]]) -> int\n",
            " |      \n",
            " |      Return the highest index in S where substring sub is found,\n",
            " |      such that sub is contained within S[start:end].  Optional\n",
            " |      arguments start and end are interpreted as in slice notation.\n",
            " |      \n",
            " |      Raises ValueError when the substring is not found.\n",
            " |  \n",
            " |  rjust(self, width, fillchar=' ', /)\n",
            " |      Return a right-justified string of length width.\n",
            " |      \n",
            " |      Padding is done using the specified fill character (default is a space).\n",
            " |  \n",
            " |  rpartition(self, sep, /)\n",
            " |      Partition the string into three parts using the given separator.\n",
            " |      \n",
            " |      This will search for the separator in the string, starting at the end. If\n",
            " |      the separator is found, returns a 3-tuple containing the part before the\n",
            " |      separator, the separator itself, and the part after it.\n",
            " |      \n",
            " |      If the separator is not found, returns a 3-tuple containing two empty strings\n",
            " |      and the original string.\n",
            " |  \n",
            " |  rsplit(self, /, sep=None, maxsplit=-1)\n",
            " |      Return a list of the substrings in the string, using sep as the separator string.\n",
            " |      \n",
            " |        sep\n",
            " |          The separator used to split the string.\n",
            " |      \n",
            " |          When set to None (the default value), will split on any whitespace\n",
            " |          character (including \\n \\r \\t \\f and spaces) and will discard\n",
            " |          empty strings from the result.\n",
            " |        maxsplit\n",
            " |          Maximum number of splits (starting from the left).\n",
            " |          -1 (the default value) means no limit.\n",
            " |      \n",
            " |      Splitting starts at the end of the string and works to the front.\n",
            " |  \n",
            " |  rstrip(self, chars=None, /)\n",
            " |      Return a copy of the string with trailing whitespace removed.\n",
            " |      \n",
            " |      If chars is given and not None, remove characters in chars instead.\n",
            " |  \n",
            " |  split(self, /, sep=None, maxsplit=-1)\n",
            " |      Return a list of the substrings in the string, using sep as the separator string.\n",
            " |      \n",
            " |        sep\n",
            " |          The separator used to split the string.\n",
            " |      \n",
            " |          When set to None (the default value), will split on any whitespace\n",
            " |          character (including \\n \\r \\t \\f and spaces) and will discard\n",
            " |          empty strings from the result.\n",
            " |        maxsplit\n",
            " |          Maximum number of splits (starting from the left).\n",
            " |          -1 (the default value) means no limit.\n",
            " |      \n",
            " |      Note, str.split() is mainly useful for data that has been intentionally\n",
            " |      delimited.  With natural text that includes punctuation, consider using\n",
            " |      the regular expression module.\n",
            " |  \n",
            " |  splitlines(self, /, keepends=False)\n",
            " |      Return a list of the lines in the string, breaking at line boundaries.\n",
            " |      \n",
            " |      Line breaks are not included in the resulting list unless keepends is given and\n",
            " |      true.\n",
            " |  \n",
            " |  startswith(...)\n",
            " |      S.startswith(prefix[, start[, end]]) -> bool\n",
            " |      \n",
            " |      Return True if S starts with the specified prefix, False otherwise.\n",
            " |      With optional start, test S beginning at that position.\n",
            " |      With optional end, stop comparing S at that position.\n",
            " |      prefix can also be a tuple of strings to try.\n",
            " |  \n",
            " |  strip(self, chars=None, /)\n",
            " |      Return a copy of the string with leading and trailing whitespace removed.\n",
            " |      \n",
            " |      If chars is given and not None, remove characters in chars instead.\n",
            " |  \n",
            " |  swapcase(self, /)\n",
            " |      Convert uppercase characters to lowercase and lowercase characters to uppercase.\n",
            " |  \n",
            " |  title(self, /)\n",
            " |      Return a version of the string where each word is titlecased.\n",
            " |      \n",
            " |      More specifically, words start with uppercased characters and all remaining\n",
            " |      cased characters have lower case.\n",
            " |  \n",
            " |  translate(self, table, /)\n",
            " |      Replace each character in the string using the given translation table.\n",
            " |      \n",
            " |        table\n",
            " |          Translation table, which must be a mapping of Unicode ordinals to\n",
            " |          Unicode ordinals, strings, or None.\n",
            " |      \n",
            " |      The table must implement lookup/indexing via __getitem__, for instance a\n",
            " |      dictionary or list.  If this operation raises LookupError, the character is\n",
            " |      left untouched.  Characters mapped to None are deleted.\n",
            " |  \n",
            " |  upper(self, /)\n",
            " |      Return a copy of the string converted to uppercase.\n",
            " |  \n",
            " |  zfill(self, width, /)\n",
            " |      Pad a numeric string with zeros on the left, to fill a field of the given width.\n",
            " |      \n",
            " |      The string is never truncated.\n",
            " |  \n",
            " |  ----------------------------------------------------------------------\n",
            " |  Static methods defined here:\n",
            " |  \n",
            " |  __new__(*args, **kwargs) from builtins.type\n",
            " |      Create and return a new object.  See help(type) for accurate signature.\n",
            " |  \n",
            " |  maketrans(...)\n",
            " |      Return a translation table usable for str.translate().\n",
            " |      \n",
            " |      If there is only one argument, it must be a dictionary mapping Unicode\n",
            " |      ordinals (integers) or characters to Unicode ordinals, strings or None.\n",
            " |      Character keys will be then converted to ordinals.\n",
            " |      If there are two arguments, they must be strings of equal length, and\n",
            " |      in the resulting dictionary, each character in x will be mapped to the\n",
            " |      character at the same position in y. If there is a third argument, it\n",
            " |      must be a string, whose characters will be mapped to None in the result.\n",
            "\n"
          ]
        }
      ],
      "source": [
        "# to show class method in str\n",
        "\n",
        "help(\"\")"
      ]
    },
    {
      "cell_type": "code",
      "execution_count": 7,
      "metadata": {},
      "outputs": [
        {
          "name": "stdout",
          "output_type": "stream",
          "text": [
            "red\n",
            "sweet\n",
            "RED\n"
          ]
        }
      ],
      "source": [
        "class Apple:\n",
        "    pass\n",
        "\n",
        "class Apple:\n",
        "    color = \"\"\n",
        "    flavor = \"\"\n",
        "\n",
        "jonagold = Apple()\n",
        "jonagold.color = \"red\"\n",
        "jonagold.flavor = \"sweet\"\n",
        "\n",
        "print(jonagold.color)\n",
        "print(jonagold.flavor)\n",
        "print(jonagold.color.upper())"
      ]
    },
    {
      "cell_type": "markdown",
      "metadata": {},
      "source": [
        "### Quiz: OOP"
      ]
    },
    {
      "cell_type": "code",
      "execution_count": 9,
      "metadata": {},
      "outputs": [
        {
          "name": "stdout",
          "output_type": "stream",
          "text": [
            "Cusco, Peru\n",
            "Sofia, Bulgaria\n",
            "\n"
          ]
        }
      ],
      "source": [
        "# Bingung\n",
        "\n",
        "# define a basic city class\n",
        "class City:\n",
        "\tname = \"\"\n",
        "\tcountry = \"\"\n",
        "\televation = 0 \n",
        "\tpopulation = 0\n",
        "\n",
        "# create a new instance of the City class and\n",
        "# define each attribute\n",
        "city1 = City()\n",
        "city1.name = \"Cusco\"\n",
        "city1.country = \"Peru\"\n",
        "city1.elevation = 3399\n",
        "city1.population = 358052\n",
        "\n",
        "# create a new instance of the City class and\n",
        "# define each attribute\n",
        "city2 = City()\n",
        "city2.name = \"Sofia\"\n",
        "city2.country = \"Bulgaria\"\n",
        "city2.elevation = 2290\n",
        "city2.population = 1241675\n",
        "\n",
        "# create a new instance of the City class and\n",
        "# define each attribute\n",
        "city3 = City()\n",
        "city3.name = \"Seoul\"\n",
        "city3.country = \"South Korea\"\n",
        "city3.elevation = 38\n",
        "city3.population = 9733509\n",
        "\n",
        "def max_elevation_city(min_population):\n",
        "\t# Initialize the variable that will hold \n",
        "# the information of the city with \n",
        "# the highest elevation \n",
        "\treturn_city = City()\n",
        "\n",
        "\t# Evaluate the 1st instance to meet the requirements:\n",
        "\t# does city #1 have at least min_population and\n",
        "\t# is its elevation the highest evaluated so far?\n",
        "\tif city1.population >= min_population:\n",
        "\t\treturn_city = city1\n",
        "\t# Evaluate the 2nd instance to meet the requirements:\n",
        "\t# does city #2 have at least min_population and\n",
        "\t# is its elevation the highest evaluated so far?\n",
        "\tif city2.population >= min_population and city2.elevation > return_city.elevation:\n",
        "\t\treturn_city = city2\n",
        "\t# Evaluate the 3rd instance to meet the requirements:\n",
        "\t# does city #3 have at least min_population and\n",
        "\t# is its elevation the highest evaluated so far?\n",
        "\tif city3.population >= min_population and city3.elevation > return_city.elevation:\n",
        "\t\treturn_city = city3\n",
        "\n",
        "\t#Format the return string\n",
        "\tif return_city.name:\n",
        "\t\treturn f\"{return_city.name}, {return_city.country}\"\n",
        "\telse:\n",
        "\t\treturn \"\"\n",
        "\n",
        "print(max_elevation_city(100000)) # Should print \"Cusco, Peru\"\n",
        "print(max_elevation_city(1000000)) # Should print \"Sofia, Bulgaria\"\n",
        "print(max_elevation_city(10000000)) # Should print \"\""
      ]
    },
    {
      "cell_type": "code",
      "execution_count": 10,
      "metadata": {},
      "outputs": [
        {
          "name": "stdout",
          "output_type": "stream",
          "text": [
            "This piece of furniture is made of brown material\n",
            "This piece of furniture is made of red leather\n"
          ]
        }
      ],
      "source": [
        "class Furniture:\n",
        "\tcolor = \"\"\n",
        "\tmaterial = \"\"\n",
        "\n",
        "table = Furniture()\n",
        "table.color = \"brown\"\n",
        "table.material = \"material\"\n",
        "\n",
        "couch = Furniture()\n",
        "couch.color = \"red\"\n",
        "couch.material = \"leather\"\n",
        "\n",
        "def describe_furniture(piece):\n",
        "\treturn (\"This piece of furniture is made of {} {}\".format(piece.color, piece.material))\n",
        "\n",
        "print(describe_furniture(table)) \n",
        "# Should be \"This piece of furniture is made of brown wood\"\n",
        "print(describe_furniture(couch)) \n",
        "# Should be \"This piece of furniture is made of red leather\""
      ]
    },
    {
      "cell_type": "markdown",
      "metadata": {},
      "source": [
        "### Class and Method"
      ]
    },
    {
      "cell_type": "code",
      "execution_count": 11,
      "metadata": {},
      "outputs": [
        {
          "name": "stdout",
          "output_type": "stream",
          "text": [
            "Oink Oink\n"
          ]
        }
      ],
      "source": [
        "class Piglet:\n",
        "    def speak(self):\n",
        "        print(\"Oink Oink\")\n",
        "\n",
        "hamlet = Piglet()\n",
        "hamlet.speak()"
      ]
    },
    {
      "cell_type": "code",
      "execution_count": 15,
      "metadata": {},
      "outputs": [
        {
          "name": "stdout",
          "output_type": "stream",
          "text": [
            "Oink! I'm Hamlet! Oink!\n"
          ]
        }
      ],
      "source": [
        "class Piglet:\n",
        "    name = \"piglet\"\n",
        "    def speak(self):\n",
        "        print(\"Oink! I'm {}! Oink!\".format(self.name))\n",
        "\n",
        "hamlet = Piglet()\n",
        "hamlet.name = \"Hamlet\"\n",
        "hamlet.speak()"
      ]
    },
    {
      "cell_type": "code",
      "execution_count": 19,
      "metadata": {},
      "outputs": [
        {
          "name": "stdout",
          "output_type": "stream",
          "text": [
            "0\n",
            "36\n"
          ]
        }
      ],
      "source": [
        "class Piglet:\n",
        "    years = 0\n",
        "    def pig_years(self):\n",
        "        return self.years * 18\n",
        "    \n",
        "piggy = Piglet()\n",
        "print(piggy.pig_years())\n",
        "\n",
        "piggy.years = 2\n",
        "print(piggy.pig_years())"
      ]
    },
    {
      "cell_type": "markdown",
      "metadata": {},
      "source": [
        "constructor"
      ]
    },
    {
      "cell_type": "code",
      "execution_count": 21,
      "metadata": {},
      "outputs": [
        {
          "name": "stdout",
          "output_type": "stream",
          "text": [
            "red\n"
          ]
        }
      ],
      "source": [
        "class Apple:\n",
        "    def __init__(self, color, flavor):\n",
        "        self.color = color\n",
        "        self.flavor = flavor\n",
        "\n",
        "jonagold = Apple(\"red\", \"sweet\")\n",
        "print(jonagold.color)"
      ]
    },
    {
      "cell_type": "code",
      "execution_count": 22,
      "metadata": {},
      "outputs": [
        {
          "name": "stdout",
          "output_type": "stream",
          "text": [
            "hi, my name is daniel\n"
          ]
        }
      ],
      "source": [
        "class Person:\n",
        "    def __init__(self, name):\n",
        "        self.name = name\n",
        "    def greeting(self):\n",
        "        # Should return \"hi, my name is \" followed by the name of the Person.\n",
        "        return f\"hi, my name is {self.name}\" \n",
        "\n",
        "# Create a new instance with a name of your choice\n",
        "some_person = Person(\"daniel\")  \n",
        "# Call the greeting method\n",
        "print(some_person.greeting())\n"
      ]
    },
    {
      "cell_type": "code",
      "execution_count": 25,
      "metadata": {},
      "outputs": [
        {
          "name": "stdout",
          "output_type": "stream",
          "text": [
            "This apple is red and its flavor is sweet\n"
          ]
        }
      ],
      "source": [
        "# str function\n",
        "\n",
        "class Apple:\n",
        "    def __init__(self, color, flavor):\n",
        "        self.color = color\n",
        "        self.flavor = flavor\n",
        "    def __str__(self):\n",
        "        return \"This apple is {} and its flavor is {}\".format(self.color, self.flavor)\n",
        "\n",
        "jonagold = Apple(\"red\", \"sweet\")\n",
        "print(jonagold)"
      ]
    },
    {
      "cell_type": "markdown",
      "metadata": {},
      "source": [
        "How to add docstring -> use for add comment on the help function"
      ]
    },
    {
      "cell_type": "code",
      "execution_count": 26,
      "metadata": {},
      "outputs": [
        {
          "name": "stdout",
          "output_type": "stream",
          "text": [
            "Help on function to_seconds in module __main__:\n",
            "\n",
            "to_seconds(hours, minutes, seconds)\n",
            "    Returns the amount of seconds in the given hours, minutes, and seconds.\n",
            "\n"
          ]
        }
      ],
      "source": [
        "def to_seconds(hours, minutes, seconds):\n",
        "    \"\"\"Returns the amount of seconds in the given hours, minutes, and seconds.\"\"\"\n",
        "    return hours*3600+minutes*60+seconds\n",
        "\n",
        "help(to_seconds)"
      ]
    },
    {
      "cell_type": "markdown",
      "metadata": {},
      "source": [
        "## Code Reuse"
      ]
    },
    {
      "cell_type": "markdown",
      "metadata": {},
      "source": [
        "### Inheritance"
      ]
    },
    {
      "cell_type": "code",
      "execution_count": 28,
      "metadata": {},
      "outputs": [
        {
          "name": "stdout",
          "output_type": "stream",
          "text": [
            "tart\n",
            "purple\n"
          ]
        }
      ],
      "source": [
        "# example of inheritance -> we have parents, siblings, grandfather (inheritance are family)\n",
        "\n",
        "class Fruit:\n",
        "    def __init__(self, color, flavor):\n",
        "        self.color = color\n",
        "        self.flavor = flavor\n",
        "\n",
        "class Apple(Fruit):\n",
        "    pass\n",
        "\n",
        "class Grape(Fruit):\n",
        "    pass\n",
        "\n",
        "granny_smith = Apple(\"green\", \"tart\")\n",
        "carnelian = Grape(\"purple\", \"sweet\")\n",
        "print(granny_smith.flavor)\n",
        "\n",
        "print(carnelian.color)"
      ]
    },
    {
      "cell_type": "code",
      "execution_count": null,
      "metadata": {},
      "outputs": [],
      "source": [
        "class Animal:\n",
        "    sound = \"\"\n",
        "    def __init__(self, name):\n",
        "        self.name = name\n",
        "    def speak(self):\n",
        "        print(\"{sound} I'm {name}! {sound}.format\"(\n",
        "        name = self.name, sound = self.sound))\n",
        "\n",
        "class Piglet()"
      ]
    },
    {
      "cell_type": "markdown",
      "metadata": {},
      "source": [
        "# 12 NOVEMBER 2023"
      ]
    },
    {
      "cell_type": "markdown",
      "metadata": {},
      "source": [
        "## Code Reuse"
      ]
    },
    {
      "cell_type": "code",
      "execution_count": 2,
      "metadata": {},
      "outputs": [
        {
          "name": "stdout",
          "output_type": "stream",
          "text": [
            "tart\n",
            "purple\n"
          ]
        }
      ],
      "source": [
        "# this is example of inheritance\n",
        "\n",
        "class Fruit:\n",
        "    def __init__(self, color, flavor):\n",
        "        self.color = color\n",
        "        self.flavor = flavor\n",
        "\n",
        "class Apple(Fruit):\n",
        "    pass\n",
        "\n",
        "class Grape(Fruit):\n",
        "    pass\n",
        "\n",
        "granny_smith = Apple(\"green\", \"tart\")\n",
        "carnelian = Grape(\"purple\", \"sweet\")\n",
        "print(granny_smith.flavor)\n",
        "print(carnelian.color)"
      ]
    },
    {
      "cell_type": "code",
      "execution_count": 4,
      "metadata": {},
      "outputs": [
        {
          "name": "stdout",
          "output_type": "stream",
          "text": [
            "Oink! I'm Hamlet! Oink!\n",
            "Moooooo I'm Milky White! Moooooo\n"
          ]
        }
      ],
      "source": [
        "class Animal:\n",
        "    sound = \"\"\n",
        "    def __init__(self, name):\n",
        "        self.name = name\n",
        "    def speak(self):\n",
        "        print(\"{sound} I'm {name}! {sound}\".format(\n",
        "            name = self.name, sound = self.sound))\n",
        "        \n",
        "class Piglet(Animal):\n",
        "    sound = \"Oink!\"\n",
        "\n",
        "hamlet = Piglet(\"Hamlet\")\n",
        "hamlet.speak()\n",
        "\n",
        "class Cow(Animal):\n",
        "    sound = \"Moooooo\"\n",
        "\n",
        "milky = Cow(\"Milky White\")\n",
        "milky.speak()"
      ]
    },
    {
      "cell_type": "code",
      "execution_count": 5,
      "metadata": {},
      "outputs": [],
      "source": [
        "# About Composition\n",
        "\n",
        "class Repository:\n",
        "    def __init__(self):\n",
        "        self.packages = {}\n",
        "    def add_package(self, package):\n",
        "        self.packages[package.name] = package\n",
        "    def total_size(self):\n",
        "        result = 0\n",
        "        for package in self.packages.value():\n",
        "            result += package.size\n",
        "        return result"
      ]
    },
    {
      "cell_type": "code",
      "execution_count": 6,
      "metadata": {},
      "outputs": [
        {
          "name": "stdout",
          "output_type": "stream",
          "text": [
            "10\n"
          ]
        }
      ],
      "source": [
        "# example of composition again\n",
        "\n",
        "class Clothing:\n",
        "  stock={ 'name': [],'material' :[], 'amount':[]}\n",
        "  def __init__(self,name):\n",
        "    material = \"\"\n",
        "    self.name = name\n",
        "  def add_item(self, name, material, amount):\n",
        "    Clothing.stock['name'].append(self.name)\n",
        "    Clothing.stock['material'].append(self.material)\n",
        "    Clothing.stock['amount'].append(amount)\n",
        "  def Stock_by_Material(self, material):\n",
        "    count=0\n",
        "    n=0\n",
        "    for item in Clothing.stock['material']:\n",
        "      if item == material:\n",
        "        count += Clothing.stock['amount'][n]\n",
        "        n+=1\n",
        "    return count\n",
        "\n",
        "class shirt(Clothing):\n",
        "  material=\"Cotton\"\n",
        "class pants(Clothing):\n",
        "  material=\"Cotton\"\n",
        "  \n",
        "polo = shirt(\"Polo\")\n",
        "sweatpants = pants(\"Sweatpants\")\n",
        "polo.add_item(polo.name, polo.material, 4)\n",
        "sweatpants.add_item(sweatpants.name, sweatpants.material, 6)\n",
        "current_stock = polo.Stock_by_Material(\"Cotton\")\n",
        "print(current_stock)"
      ]
    },
    {
      "cell_type": "code",
      "execution_count": 11,
      "metadata": {},
      "outputs": [
        {
          "data": {
            "text/plain": [
              "1"
            ]
          },
          "execution_count": 11,
          "metadata": {},
          "output_type": "execute_result"
        }
      ],
      "source": [
        "# About the module\n",
        "\n",
        "import random\n",
        "random.randint(1, 10)\n",
        "\n"
      ]
    },
    {
      "cell_type": "code",
      "execution_count": 17,
      "metadata": {},
      "outputs": [
        {
          "name": "stdout",
          "output_type": "stream",
          "text": [
            "2023-11-12 13:48:38.113840\n",
            "2023\n",
            "11\n"
          ]
        }
      ],
      "source": [
        "import datetime\n",
        "now = datetime.datetime.now()\n",
        "\n",
        "print(now)\n",
        "\n",
        "print(now.year)\n",
        "print(now.month)"
      ]
    }
  ],
  "metadata": {
    "colab": {
      "authorship_tag": "ABX9TyP02F+QPIeS8Q2rW5JjgzHN",
      "include_colab_link": true,
      "provenance": []
    },
    "kernelspec": {
      "display_name": "Python 3",
      "name": "python3"
    },
    "language_info": {
      "codemirror_mode": {
        "name": "ipython",
        "version": 3
      },
      "file_extension": ".py",
      "mimetype": "text/x-python",
      "name": "python",
      "nbconvert_exporter": "python",
      "pygments_lexer": "ipython3",
      "version": "3.11.6"
    }
  },
  "nbformat": 4,
  "nbformat_minor": 0
}
