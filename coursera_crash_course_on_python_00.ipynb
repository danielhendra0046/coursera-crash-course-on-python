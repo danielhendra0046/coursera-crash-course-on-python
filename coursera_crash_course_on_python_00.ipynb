{
  "cells": [
    {
      "cell_type": "markdown",
      "metadata": {
        "colab_type": "text",
        "id": "view-in-github"
      },
      "source": [
        "<a href=\"https://colab.research.google.com/github/danielhendra0046/coursera-crash-course-on-python/blob/master/coursera_crash_course_on_python_00.ipynb\" target=\"_parent\"><img src=\"https://colab.research.google.com/assets/colab-badge.svg\" alt=\"Open In Colab\"/></a>"
      ]
    },
    {
      "cell_type": "markdown",
      "metadata": {},
      "source": [
        "# 3 NOVEMBER 2023"
      ]
    },
    {
      "cell_type": "markdown",
      "metadata": {},
      "source": [
        "## Introduction to Programming"
      ]
    },
    {
      "cell_type": "markdown",
      "metadata": {},
      "source": [
        "if you don't know about the type of data, you can write like this:"
      ]
    },
    {
      "cell_type": "code",
      "execution_count": 4,
      "metadata": {
        "id": "tP4crNAe575z"
      },
      "outputs": [
        {
          "name": "stdout",
          "output_type": "stream",
          "text": [
            "<class 'str'>\n",
            "<class 'float'>\n"
          ]
        }
      ],
      "source": [
        "print(type(\"a\"))\n",
        "print(type(1.5))"
      ]
    },
    {
      "cell_type": "markdown",
      "metadata": {},
      "source": [
        "# 4 NOVEMBER 2023"
      ]
    },
    {
      "cell_type": "markdown",
      "metadata": {},
      "source": [
        "## Repeat Lesson"
      ]
    },
    {
      "cell_type": "code",
      "execution_count": 11,
      "metadata": {},
      "outputs": [
        {
          "name": "stdout",
          "output_type": "stream",
          "text": [
            "the fortune number of Ucup is: 10\n"
          ]
        }
      ],
      "source": [
        "ucup = 10\n",
        "\n",
        "print(\"the fortune number of Ucup is: \" + str(ucup))"
      ]
    },
    {
      "cell_type": "code",
      "execution_count": 12,
      "metadata": {},
      "outputs": [
        {
          "name": "stdout",
          "output_type": "stream",
          "text": [
            "Welcome, Daniel\n",
            "You are part of Manajemen Bisnis\n"
          ]
        }
      ],
      "source": [
        "def greeting(name, department):\n",
        "    print(\"Welcome, \" + name)\n",
        "    print(\"You are part of \" + department)\n",
        "\n",
        "greeting(\"Daniel\", \"Manajemen Bisnis\")"
      ]
    },
    {
      "cell_type": "markdown",
      "metadata": {},
      "source": [
        "This is cause why we use return in function"
      ]
    },
    {
      "cell_type": "code",
      "execution_count": 21,
      "metadata": {},
      "outputs": [
        {
          "name": "stdout",
          "output_type": "stream",
          "text": [
            "10.0\n",
            "10.5\n",
            "<class 'NoneType'>\n"
          ]
        },
        {
          "ename": "TypeError",
          "evalue": "unsupported operand type(s) for +: 'NoneType' and 'NoneType'",
          "output_type": "error",
          "traceback": [
            "\u001b[0;31m---------------------------------------------------------------------------\u001b[0m",
            "\u001b[0;31mTypeError\u001b[0m                                 Traceback (most recent call last)",
            "\u001b[1;32m/Users/danielhendraandriyanto/Documents/belajar-python/coursera-crash-course-on-python/coursera_crash_course_on_python_00.ipynb Cell 10\u001b[0m line \u001b[0;36m9\n\u001b[1;32m      <a href='vscode-notebook-cell:/Users/danielhendraandriyanto/Documents/belajar-python/coursera-crash-course-on-python/coursera_crash_course_on_python_00.ipynb#X13sZmlsZQ%3D%3D?line=5'>6</a>\u001b[0m \u001b[39m# cannot print because area_a is a NoneType\u001b[39;00m\n\u001b[1;32m      <a href='vscode-notebook-cell:/Users/danielhendraandriyanto/Documents/belajar-python/coursera-crash-course-on-python/coursera_crash_course_on_python_00.ipynb#X13sZmlsZQ%3D%3D?line=6'>7</a>\u001b[0m \u001b[39mprint\u001b[39m(\u001b[39mtype\u001b[39m(area_a))\n\u001b[0;32m----> <a href='vscode-notebook-cell:/Users/danielhendraandriyanto/Documents/belajar-python/coursera-crash-course-on-python/coursera_crash_course_on_python_00.ipynb#X13sZmlsZQ%3D%3D?line=8'>9</a>\u001b[0m \u001b[39msum\u001b[39m \u001b[39m=\u001b[39m area_a \u001b[39m+\u001b[39;49m area_b\n\u001b[1;32m     <a href='vscode-notebook-cell:/Users/danielhendraandriyanto/Documents/belajar-python/coursera-crash-course-on-python/coursera_crash_course_on_python_00.ipynb#X13sZmlsZQ%3D%3D?line=10'>11</a>\u001b[0m \u001b[39mprint\u001b[39m(\u001b[39msum\u001b[39m)\n",
            "\u001b[0;31mTypeError\u001b[0m: unsupported operand type(s) for +: 'NoneType' and 'NoneType'"
          ]
        }
      ],
      "source": [
        "# Wrong Example\n",
        "\n",
        "def perkalian(angka1,angka2):\n",
        "    print(angka1*angka2/2)\n",
        "area_a = perkalian(5,4)\n",
        "area_b = perkalian(7,3)\n",
        "\n",
        "# cannot print because area_a is a NoneType\n",
        "print(type(area_a))\n",
        "\n",
        "sum = area_a + area_b\n",
        "\n",
        "print(sum)\n",
        "\n",
        "# so this is a important of using a \"return\""
      ]
    },
    {
      "cell_type": "code",
      "execution_count": 20,
      "metadata": {},
      "outputs": [
        {
          "name": "stdout",
          "output_type": "stream",
          "text": [
            "<class 'float'>\n",
            "20.5\n"
          ]
        }
      ],
      "source": [
        "# Correct Example\n",
        "\n",
        "def area_triangle(base, height):\n",
        "    return base*height/2\n",
        "\n",
        "area_a = area_triangle(5,4)\n",
        "area_b = area_triangle(7,3)\n",
        "\n",
        "# this can be operate because of area_a is a float\n",
        "print(type(area_a))\n",
        "\n",
        "sum = area_a + area_b\n",
        "print(sum)\n"
      ]
    },
    {
      "cell_type": "markdown",
      "metadata": {},
      "source": [
        "Other example of using \"return\""
      ]
    },
    {
      "cell_type": "code",
      "execution_count": 29,
      "metadata": {},
      "outputs": [
        {
          "name": "stdout",
          "output_type": "stream",
          "text": [
            "1 23 20\n"
          ]
        }
      ],
      "source": [
        "def convert_second(second):\n",
        "    hours = second // 3600\n",
        "    minutes = (second - hours * 3600) // 60\n",
        "    remaining_seconds = second - hours * 3600 - minutes * 60\n",
        "    return hours, minutes, remaining_seconds\n",
        "\n",
        "hours, minutes, seconds = convert_second(5000)\n",
        "print(hours, minutes, seconds)\n",
        "\n",
        "# why must be 3 variables? because the output of convert_second() is only have 3 output. So thats why we can't add > 3"
      ]
    },
    {
      "cell_type": "code",
      "execution_count": 43,
      "metadata": {},
      "outputs": [
        {
          "name": "stdout",
          "output_type": "stream",
          "text": [
            "False\n"
          ]
        }
      ],
      "source": [
        "print(\"Yellow\" > \"Yfllow\")"
      ]
    },
    {
      "cell_type": "markdown",
      "metadata": {},
      "source": [
        "## While Loops"
      ]
    },
    {
      "cell_type": "code",
      "execution_count": 45,
      "metadata": {},
      "outputs": [
        {
          "name": "stdout",
          "output_type": "stream",
          "text": [
            "Not there yet, x=0\n",
            "Not there yet, x=1\n",
            "Not there yet, x=2\n",
            "Not there yet, x=3\n",
            "Not there yet, x=4\n",
            "x=5\n"
          ]
        }
      ],
      "source": [
        "x = 0\n",
        "while x < 5:\n",
        "    print(\"Not there yet, x=\" + str(x))\n",
        "    x = x + 1\n",
        "print(\"x=\" + str(x))"
      ]
    },
    {
      "cell_type": "code",
      "execution_count": 47,
      "metadata": {},
      "outputs": [],
      "source": [
        "if x != 0:\n",
        "    while x % 2 == 0:\n",
        "        x = x / 2"
      ]
    },
    {
      "cell_type": "code",
      "execution_count": 48,
      "metadata": {},
      "outputs": [
        {
          "name": "stdout",
          "output_type": "stream",
          "text": [
            "1\n",
            "2\n",
            "3\n",
            "4\n",
            "5\n"
          ]
        }
      ],
      "source": [
        "def print_range(start, end):\n",
        "    n = start\n",
        "    while n <= end:\n",
        "        print(n)\n",
        "        n += 1\n",
        "print_range(1, 5)"
      ]
    },
    {
      "cell_type": "code",
      "execution_count": 59,
      "metadata": {},
      "outputs": [
        {
          "name": "stdout",
          "output_type": "stream",
          "text": [
            "5 + 1 = 6\n",
            "5 + 2 = 7\n",
            "5 + 3 = 8\n",
            "5 + 4 = 9\n",
            "5 + 5 = 10\n",
            "17 + 1 = 18\n",
            "17 + 2 = 19\n",
            "17 + 3 = 20\n"
          ]
        }
      ],
      "source": [
        "def addition_table(given_number):\n",
        "    iterated_number = 1\n",
        "    my_sum = 1\n",
        "    while iterated_number <= 5:\n",
        "        my_sum = given_number + iterated_number\n",
        "        if my_sum > 20:\n",
        "            break\n",
        "\n",
        "        print(str(given_number), \"+\", str(iterated_number), \"=\", str(my_sum))\n",
        "        iterated_number += 1\n",
        " \n",
        " \n",
        "addition_table(5)\n",
        "addition_table(17)\n",
        "addition_table(30)"
      ]
    },
    {
      "cell_type": "code",
      "execution_count": 82,
      "metadata": {},
      "outputs": [
        {
          "name": "stdout",
          "output_type": "stream",
          "text": [
            "0.3\n",
            "0\n"
          ]
        }
      ],
      "source": [
        "# this is operation of modulo\n",
        "\n",
        "print(0.3%2)\n",
        "print(1010000%1) # result always 0"
      ]
    },
    {
      "cell_type": "code",
      "execution_count": 83,
      "metadata": {},
      "outputs": [
        {
          "name": "stdout",
          "output_type": "stream",
          "text": [
            "1\n",
            "55\n",
            "114\n"
          ]
        }
      ],
      "source": [
        "def sum_divisors(number):\n",
        "  divisor = 1\n",
        "  total = 0\n",
        "\n",
        "  if number < 1:\n",
        "    return 0 \n",
        "\n",
        "  while divisor <= number/2:\n",
        "    if number % divisor == 0: \n",
        "      total += divisor\n",
        "  \n",
        "    divisor += 1\n",
        "  return total\n",
        "\n",
        "\n",
        "# print(sum_divisors(0)) # Should print 0\n",
        "print(sum_divisors(3)) # Should print 1\n",
        "# 1\n",
        "print(sum_divisors(36)) # Should print 1+2+3+4+6+9+12+18\n",
        "# 55\n",
        "print(sum_divisors(102)) # Should print 1+2+3+6+17+34+51\n",
        "# 114\n"
      ]
    },
    {
      "cell_type": "code",
      "execution_count": 86,
      "metadata": {},
      "outputs": [
        {
          "name": "stdout",
          "output_type": "stream",
          "text": [
            "3x1=3\n",
            "3x2=6\n",
            "3x3=9\n",
            "3x4=12\n",
            "3x5=15\n",
            "5x1=5\n",
            "5x2=10\n",
            "5x3=15\n",
            "5x4=20\n",
            "5x5=25\n",
            "8x1=8\n",
            "8x2=16\n",
            "8x3=24\n"
          ]
        }
      ],
      "source": [
        "def multiplication_table(number):\n",
        "    # Initialize the appropriate variable\n",
        "    multiplier = 1\n",
        "\n",
        "    # Complete the while loop condition.\n",
        "    while multiplier <= 5:\n",
        "        result = number * multiplier \n",
        "        if  result > 25 :\n",
        "            # Enter the action to take if the result is greater than 25\n",
        "            break\n",
        "        print(str(number) + \"x\" + str(multiplier) + \"=\" + str(result))\n",
        "        \n",
        "        # Increment the appropriate variable\n",
        "        multiplier += 1\n",
        "\n",
        "\n",
        "multiplication_table(3) \n",
        "# Should print: \n",
        "# 3x1=3 \n",
        "# 3x2=6 \n",
        "# 3x3=9 \n",
        "# 3x4=12 \n",
        "# 3x5=15\n",
        "\n",
        "multiplication_table(5) \n",
        "# Should print: \n",
        "# 5x1=5\n",
        "# 5x2=10\n",
        "# 5x3=15\n",
        "# 5x4=20\n",
        "# 5x5=25\n",
        "\n",
        "multiplication_table(8) \n",
        "# Should print:\n",
        "# 8x1=8\n",
        "# 8x2=16\n",
        "# 8x3=24\n"
      ]
    },
    {
      "cell_type": "markdown",
      "metadata": {},
      "source": [
        "## For Loops"
      ]
    }
  ],
  "metadata": {
    "colab": {
      "authorship_tag": "ABX9TyPkxc2KQfFI3d96fbm4gYeh",
      "include_colab_link": true,
      "provenance": []
    },
    "kernelspec": {
      "display_name": "Python 3",
      "name": "python3"
    },
    "language_info": {
      "codemirror_mode": {
        "name": "ipython",
        "version": 3
      },
      "file_extension": ".py",
      "mimetype": "text/x-python",
      "name": "python",
      "nbconvert_exporter": "python",
      "pygments_lexer": "ipython3",
      "version": "3.11.6"
    }
  },
  "nbformat": 4,
  "nbformat_minor": 0
}
