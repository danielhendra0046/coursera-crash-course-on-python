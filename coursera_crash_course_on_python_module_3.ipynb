{
  "nbformat": 4,
  "nbformat_minor": 0,
  "metadata": {
    "colab": {
      "provenance": [],
      "authorship_tag": "ABX9TyNtYh5tDYOYtcir2neRQtJa",
      "include_colab_link": true
    },
    "kernelspec": {
      "name": "python3",
      "display_name": "Python 3"
    },
    "language_info": {
      "name": "python"
    }
  },
  "cells": [
    {
      "cell_type": "markdown",
      "metadata": {
        "id": "view-in-github",
        "colab_type": "text"
      },
      "source": [
        "<a href=\"https://colab.research.google.com/github/danielhendra0046/coursera-crash-course-on-python/blob/master/coursera_crash_course_on_python_module_3.ipynb\" target=\"_parent\"><img src=\"https://colab.research.google.com/assets/colab-badge.svg\" alt=\"Open In Colab\"/></a>"
      ]
    },
    {
      "cell_type": "markdown",
      "source": [
        "This is module for https://www.coursera.org/learn/python-crash-course/home/module/3"
      ],
      "metadata": {
        "id": "CWDaDDX73LX1"
      }
    },
    {
      "cell_type": "markdown",
      "source": [
        "While Loops"
      ],
      "metadata": {
        "id": "gJYwCPfRDcg-"
      }
    },
    {
      "cell_type": "code",
      "source": [
        "x = 0\n",
        "while x < 5:\n",
        "  print(\"Not there yet, x=\" + str(x))\n",
        "  x = x + 1\n",
        "\n",
        "print(\"X=\" + str(x))"
      ],
      "metadata": {
        "colab": {
          "base_uri": "https://localhost:8080/"
        },
        "id": "XOzcuCnN3VUs",
        "outputId": "9fcbae04-4421-4102-900e-95db21c9d825"
      },
      "execution_count": null,
      "outputs": [
        {
          "output_type": "stream",
          "name": "stdout",
          "text": [
            "Not there yet, x=0\n",
            "Not there yet, x=1\n",
            "Not there yet, x=2\n",
            "Not there yet, x=3\n",
            "Not there yet, x=4\n",
            "X=5\n"
          ]
        }
      ]
    },
    {
      "cell_type": "code",
      "source": [
        "def attempts(n):\n",
        "  x = 1\n",
        "  while x <= n:\n",
        "    print(\"Attempt \" + str(x))\n",
        "    x += 1\n",
        "  print(\"Done\")\n",
        "\n",
        "attempts(5)"
      ],
      "metadata": {
        "colab": {
          "base_uri": "https://localhost:8080/"
        },
        "id": "lEN4m1MA6WOm",
        "outputId": "fe7d698b-a87d-4ab5-98d6-7a3e0162c312"
      },
      "execution_count": null,
      "outputs": [
        {
          "output_type": "stream",
          "name": "stdout",
          "text": [
            "Attempt 1\n",
            "Attempt 2\n",
            "Attempt 3\n",
            "Attempt 4\n",
            "Attempt 5\n",
            "Done\n"
          ]
        }
      ]
    },
    {
      "cell_type": "code",
      "source": [
        "x = 1\n",
        "sum = 0\n",
        "while x < 10:\n",
        "  sum += x\n",
        "  x += 1\n",
        "\n",
        "print(x, sum)"
      ],
      "metadata": {
        "colab": {
          "base_uri": "https://localhost:8080/"
        },
        "id": "R-kLsv688dV9",
        "outputId": "40a867d8-3e59-429b-b7f9-d9fa26561986"
      },
      "execution_count": null,
      "outputs": [
        {
          "output_type": "stream",
          "name": "stdout",
          "text": [
            "10 45\n"
          ]
        }
      ]
    },
    {
      "cell_type": "markdown",
      "source": [
        "Infinite Loop"
      ],
      "metadata": {
        "id": "sXfgbOlgA58T"
      }
    },
    {
      "cell_type": "code",
      "source": [
        "while x != 0 and x % 2 == 0:\n",
        "  x = x/2\n",
        "\n",
        "print(x)"
      ],
      "metadata": {
        "colab": {
          "base_uri": "https://localhost:8080/"
        },
        "id": "XwO9xTCXA7Sy",
        "outputId": "3d226499-334d-4b28-ed52-a3f4eab644c8"
      },
      "execution_count": null,
      "outputs": [
        {
          "output_type": "stream",
          "name": "stdout",
          "text": [
            "5.0\n"
          ]
        }
      ]
    },
    {
      "cell_type": "markdown",
      "source": [
        "For Loops"
      ],
      "metadata": {
        "id": "X2hOcD8fDjaY"
      }
    },
    {
      "cell_type": "markdown",
      "source": [
        "All number in programming languages such as in Python, start number from 0"
      ],
      "metadata": {
        "id": "MqnKFXbBDsuf"
      }
    },
    {
      "cell_type": "code",
      "source": [
        "for x in range(5):\n",
        "  print(x)"
      ],
      "metadata": {
        "colab": {
          "base_uri": "https://localhost:8080/"
        },
        "id": "8hi9wT1pDYfU",
        "outputId": "50f63eec-69e3-46d1-cc3c-46c2eb45b761"
      },
      "execution_count": null,
      "outputs": [
        {
          "output_type": "stream",
          "name": "stdout",
          "text": [
            "0\n",
            "1\n",
            "2\n",
            "3\n",
            "4\n"
          ]
        }
      ]
    },
    {
      "cell_type": "code",
      "source": [
        "friends = (\"Taylor\", \"Alex\", \"Pat\", \"Eli\")\n",
        "for friend in friends:\n",
        "  print(\"Hi \" + friend)"
      ],
      "metadata": {
        "colab": {
          "base_uri": "https://localhost:8080/"
        },
        "id": "td_pG7fZDz6H",
        "outputId": "33bf6908-25b2-47a8-e1d0-5eee80d5abff"
      },
      "execution_count": null,
      "outputs": [
        {
          "output_type": "stream",
          "name": "stdout",
          "text": [
            "Hi Taylor\n",
            "Hi Alex\n",
            "Hi Pat\n",
            "Hi Eli\n"
          ]
        }
      ]
    },
    {
      "cell_type": "code",
      "source": [
        "values = (23, 52, 59, 37, 48)\n",
        "sum = 0\n",
        "length = 0\n",
        "for value in values:\n",
        "  sum += value\n",
        "  length += 1\n",
        "\n",
        "print(\"Total sum: \" + str(sum) + \" - Average: \" + str(sum/length))"
      ],
      "metadata": {
        "colab": {
          "base_uri": "https://localhost:8080/"
        },
        "id": "eHcRkueiFaUw",
        "outputId": "81539c99-9fd5-4259-97e6-41d96496afc6"
      },
      "execution_count": null,
      "outputs": [
        {
          "output_type": "stream",
          "name": "stdout",
          "text": [
            "Total sum: 219 - Average: 43.8\n"
          ]
        }
      ]
    },
    {
      "cell_type": "markdown",
      "source": [
        "Use for loops when there's a sequence of element that you want to iterate\n",
        "\n",
        "Use while loops when you want to repeat an action until a condition changes"
      ],
      "metadata": {
        "id": "sQy5hk9eGe4k"
      }
    },
    {
      "cell_type": "code",
      "source": [
        "def to_celcius(x):\n",
        "  return (x-32)*5/9\n",
        "\n",
        "for x in range(0,101,10):\n",
        "  print(x, to_celcius(x))"
      ],
      "metadata": {
        "id": "a187ZDAUG0Dv",
        "colab": {
          "base_uri": "https://localhost:8080/"
        },
        "outputId": "5f672a56-62a9-4cb9-e2b2-84686445f8d9"
      },
      "execution_count": 1,
      "outputs": [
        {
          "output_type": "stream",
          "name": "stdout",
          "text": [
            "0 -17.77777777777778\n",
            "10 -12.222222222222221\n",
            "20 -6.666666666666667\n",
            "30 -1.1111111111111112\n",
            "40 4.444444444444445\n",
            "50 10.0\n",
            "60 15.555555555555555\n",
            "70 21.11111111111111\n",
            "80 26.666666666666668\n",
            "90 32.22222222222222\n",
            "100 37.77777777777778\n"
          ]
        }
      ]
    },
    {
      "cell_type": "markdown",
      "source": [
        "Nested for Loop"
      ],
      "metadata": {
        "id": "wI51k2sKmkVB"
      }
    },
    {
      "cell_type": "code",
      "source": [
        "for left in range(7):\n",
        "  for right in range(left, 7):\n",
        "    print(\"[\" + str(left) + \"|\" + str(right) + \"]\", end=\" \")\n",
        "  print()"
      ],
      "metadata": {
        "colab": {
          "base_uri": "https://localhost:8080/"
        },
        "id": "eLPrxBSAmj4g",
        "outputId": "9a3d1419-45aa-4e0b-e1a7-860bb1e431fa"
      },
      "execution_count": 4,
      "outputs": [
        {
          "output_type": "stream",
          "name": "stdout",
          "text": [
            "[0|0] [0|1] [0|2] [0|3] [0|4] [0|5] [0|6] \n",
            "[1|1] [1|2] [1|3] [1|4] [1|5] [1|6] \n",
            "[2|2] [2|3] [2|4] [2|5] [2|6] \n",
            "[3|3] [3|4] [3|5] [3|6] \n",
            "[4|4] [4|5] [4|6] \n",
            "[5|5] [5|6] \n",
            "[6|6] \n"
          ]
        }
      ]
    },
    {
      "cell_type": "code",
      "source": [
        "teams = (\"Dragon\", \"Wolves\", \"Pandas\", \"Unicorns\")\n",
        "for home_team in teams:\n",
        "  for away_team in teams:\n",
        "    if home_team != away_team:\n",
        "      print(home_team + \" vs \" + away_team)"
      ],
      "metadata": {
        "colab": {
          "base_uri": "https://localhost:8080/"
        },
        "id": "EZzQWwR3oOdL",
        "outputId": "c6a3f2f8-b178-46c7-f299-b29d3cf6ed59"
      },
      "execution_count": 5,
      "outputs": [
        {
          "output_type": "stream",
          "name": "stdout",
          "text": [
            "Dragon vs Wolves\n",
            "Dragon vs Pandas\n",
            "Dragon vs Unicorns\n",
            "Wolves vs Dragon\n",
            "Wolves vs Pandas\n",
            "Wolves vs Unicorns\n",
            "Pandas vs Dragon\n",
            "Pandas vs Wolves\n",
            "Pandas vs Unicorns\n",
            "Unicorns vs Dragon\n",
            "Unicorns vs Wolves\n",
            "Unicorns vs Pandas\n"
          ]
        }
      ]
    },
    {
      "cell_type": "markdown",
      "source": [
        "Recursion Loop"
      ],
      "metadata": {
        "id": "LpWWExUSsp0E"
      }
    },
    {
      "cell_type": "code",
      "source": [
        "def factorial(n):\n",
        "  print(\"Factorial called with \" + str(n))\n",
        "  if n < 2:\n",
        "    print(\"Returning 1\")\n",
        "    return 1\n",
        "  result = n * factorial(n-1)\n",
        "  print(\"Returning \" + str(result) + \" For factorial of \" + str(n))\n",
        "  return result\n",
        "\n",
        "factorial(4)"
      ],
      "metadata": {
        "colab": {
          "base_uri": "https://localhost:8080/"
        },
        "id": "BfcyLfLNsr1p",
        "outputId": "d960f488-b503-4e52-b0c8-005910ef3a68"
      },
      "execution_count": 12,
      "outputs": [
        {
          "output_type": "stream",
          "name": "stdout",
          "text": [
            "Factorial called with 4\n",
            "Factorial called with 3\n",
            "Factorial called with 2\n",
            "Factorial called with 1\n",
            "Returning 1\n",
            "Returning 2 For factorial of 2\n",
            "Returning 6 For factorial of 3\n",
            "Returning 24 For factorial of 4\n"
          ]
        },
        {
          "output_type": "execute_result",
          "data": {
            "text/plain": [
              "24"
            ]
          },
          "metadata": {},
          "execution_count": 12
        }
      ]
    },
    {
      "cell_type": "code",
      "source": [
        "def is_power_of(number, base):\n",
        "  # Base case: when number is smaller than base.\n",
        "  if number < base:\n",
        "    # If number is equal to 1, it's a power (base**0).\n",
        "    return number == 1\n",
        "\n",
        "  # Recursive case: keep dividing number by base.\n",
        "  return is_power_of(number//base, base)\n",
        "\n",
        "print(is_power_of(8,2)) # Should be True\n",
        "print(is_power_of(64,4)) # Should be True\n",
        "print(is_power_of(70,10)) # Should be False"
      ],
      "metadata": {
        "colab": {
          "base_uri": "https://localhost:8080/"
        },
        "id": "j_X-MO8__-bo",
        "outputId": "2014b9b9-29f5-4bf0-90b7-fcf8e5828a9c"
      },
      "execution_count": 13,
      "outputs": [
        {
          "output_type": "stream",
          "name": "stdout",
          "text": [
            "True\n",
            "True\n",
            "False\n"
          ]
        }
      ]
    },
    {
      "cell_type": "code",
      "source": [
        "def count_users(group):\n",
        "  count = 0\n",
        "  for member in get_members(group):\n",
        "    count += 1\n",
        "    if is_group(member):\n",
        "      count += count_users(member)\n",
        "  return count\n",
        "\n",
        "print(count_users(\"sales\")) # Should be 3\n",
        "print(count_users(\"engineering\")) # Should be 8\n",
        "print(count_users(\"everyone\")) # Should be 18"
      ],
      "metadata": {
        "colab": {
          "base_uri": "https://localhost:8080/",
          "height": 375
        },
        "id": "_Z68_9LGCbIn",
        "outputId": "a0f00a9e-afb0-4af0-8eb1-9c16f9087bcb"
      },
      "execution_count": 14,
      "outputs": [
        {
          "output_type": "error",
          "ename": "NameError",
          "evalue": "ignored",
          "traceback": [
            "\u001b[0;31m---------------------------------------------------------------------------\u001b[0m",
            "\u001b[0;31mNameError\u001b[0m                                 Traceback (most recent call last)",
            "\u001b[0;32m<ipython-input-14-2d5b06e65ce2>\u001b[0m in \u001b[0;36m<cell line: 9>\u001b[0;34m()\u001b[0m\n\u001b[1;32m      7\u001b[0m   \u001b[0;32mreturn\u001b[0m \u001b[0mcount\u001b[0m\u001b[0;34m\u001b[0m\u001b[0;34m\u001b[0m\u001b[0m\n\u001b[1;32m      8\u001b[0m \u001b[0;34m\u001b[0m\u001b[0m\n\u001b[0;32m----> 9\u001b[0;31m \u001b[0mprint\u001b[0m\u001b[0;34m(\u001b[0m\u001b[0mcount_users\u001b[0m\u001b[0;34m(\u001b[0m\u001b[0;34m\"sales\"\u001b[0m\u001b[0;34m)\u001b[0m\u001b[0;34m)\u001b[0m \u001b[0;31m# Should be 3\u001b[0m\u001b[0;34m\u001b[0m\u001b[0;34m\u001b[0m\u001b[0m\n\u001b[0m\u001b[1;32m     10\u001b[0m \u001b[0mprint\u001b[0m\u001b[0;34m(\u001b[0m\u001b[0mcount_users\u001b[0m\u001b[0;34m(\u001b[0m\u001b[0;34m\"engineering\"\u001b[0m\u001b[0;34m)\u001b[0m\u001b[0;34m)\u001b[0m \u001b[0;31m# Should be 8\u001b[0m\u001b[0;34m\u001b[0m\u001b[0;34m\u001b[0m\u001b[0m\n\u001b[1;32m     11\u001b[0m \u001b[0mprint\u001b[0m\u001b[0;34m(\u001b[0m\u001b[0mcount_users\u001b[0m\u001b[0;34m(\u001b[0m\u001b[0;34m\"everyone\"\u001b[0m\u001b[0;34m)\u001b[0m\u001b[0;34m)\u001b[0m \u001b[0;31m# Should be 18\u001b[0m\u001b[0;34m\u001b[0m\u001b[0;34m\u001b[0m\u001b[0m\n",
            "\u001b[0;32m<ipython-input-14-2d5b06e65ce2>\u001b[0m in \u001b[0;36mcount_users\u001b[0;34m(group)\u001b[0m\n\u001b[1;32m      1\u001b[0m \u001b[0;32mdef\u001b[0m \u001b[0mcount_users\u001b[0m\u001b[0;34m(\u001b[0m\u001b[0mgroup\u001b[0m\u001b[0;34m)\u001b[0m\u001b[0;34m:\u001b[0m\u001b[0;34m\u001b[0m\u001b[0;34m\u001b[0m\u001b[0m\n\u001b[1;32m      2\u001b[0m   \u001b[0mcount\u001b[0m \u001b[0;34m=\u001b[0m \u001b[0;36m0\u001b[0m\u001b[0;34m\u001b[0m\u001b[0;34m\u001b[0m\u001b[0m\n\u001b[0;32m----> 3\u001b[0;31m   \u001b[0;32mfor\u001b[0m \u001b[0mmember\u001b[0m \u001b[0;32min\u001b[0m \u001b[0mget_members\u001b[0m\u001b[0;34m(\u001b[0m\u001b[0mgroup\u001b[0m\u001b[0;34m)\u001b[0m\u001b[0;34m:\u001b[0m\u001b[0;34m\u001b[0m\u001b[0;34m\u001b[0m\u001b[0m\n\u001b[0m\u001b[1;32m      4\u001b[0m     \u001b[0mcount\u001b[0m \u001b[0;34m+=\u001b[0m \u001b[0;36m1\u001b[0m\u001b[0;34m\u001b[0m\u001b[0;34m\u001b[0m\u001b[0m\n\u001b[1;32m      5\u001b[0m     \u001b[0;32mif\u001b[0m \u001b[0mis_group\u001b[0m\u001b[0;34m(\u001b[0m\u001b[0mmember\u001b[0m\u001b[0;34m)\u001b[0m\u001b[0;34m:\u001b[0m\u001b[0;34m\u001b[0m\u001b[0;34m\u001b[0m\u001b[0m\n",
            "\u001b[0;31mNameError\u001b[0m: name 'get_members' is not defined"
          ]
        }
      ]
    }
  ]
}