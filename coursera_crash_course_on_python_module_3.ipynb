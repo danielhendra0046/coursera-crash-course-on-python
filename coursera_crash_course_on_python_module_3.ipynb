{
  "nbformat": 4,
  "nbformat_minor": 0,
  "metadata": {
    "colab": {
      "provenance": [],
      "authorship_tag": "ABX9TyOMKT+JwrVcjVsMGtRyQm6L",
      "include_colab_link": true
    },
    "kernelspec": {
      "name": "python3",
      "display_name": "Python 3"
    },
    "language_info": {
      "name": "python"
    }
  },
  "cells": [
    {
      "cell_type": "markdown",
      "metadata": {
        "id": "view-in-github",
        "colab_type": "text"
      },
      "source": [
        "<a href=\"https://colab.research.google.com/github/danielhendra0046/coursera-crash-course-on-python/blob/master/coursera_crash_course_on_python_module_3.ipynb\" target=\"_parent\"><img src=\"https://colab.research.google.com/assets/colab-badge.svg\" alt=\"Open In Colab\"/></a>"
      ]
    },
    {
      "cell_type": "markdown",
      "source": [
        "This is module for https://www.coursera.org/learn/python-crash-course/home/module/3"
      ],
      "metadata": {
        "id": "CWDaDDX73LX1"
      }
    },
    {
      "cell_type": "markdown",
      "source": [
        "While Loops"
      ],
      "metadata": {
        "id": "gJYwCPfRDcg-"
      }
    },
    {
      "cell_type": "code",
      "source": [
        "x = 0\n",
        "while x < 5:\n",
        "  print(\"Not there yet, x=\" + str(x))\n",
        "  x = x + 1\n",
        "\n",
        "print(\"X=\" + str(x))"
      ],
      "metadata": {
        "colab": {
          "base_uri": "https://localhost:8080/"
        },
        "id": "XOzcuCnN3VUs",
        "outputId": "9fcbae04-4421-4102-900e-95db21c9d825"
      },
      "execution_count": 2,
      "outputs": [
        {
          "output_type": "stream",
          "name": "stdout",
          "text": [
            "Not there yet, x=0\n",
            "Not there yet, x=1\n",
            "Not there yet, x=2\n",
            "Not there yet, x=3\n",
            "Not there yet, x=4\n",
            "X=5\n"
          ]
        }
      ]
    },
    {
      "cell_type": "code",
      "source": [
        "def attempts(n):\n",
        "  x = 1\n",
        "  while x <= n:\n",
        "    print(\"Attempt \" + str(x))\n",
        "    x += 1\n",
        "  print(\"Done\")\n",
        "\n",
        "attempts(5)"
      ],
      "metadata": {
        "colab": {
          "base_uri": "https://localhost:8080/"
        },
        "id": "lEN4m1MA6WOm",
        "outputId": "fe7d698b-a87d-4ab5-98d6-7a3e0162c312"
      },
      "execution_count": 5,
      "outputs": [
        {
          "output_type": "stream",
          "name": "stdout",
          "text": [
            "Attempt 1\n",
            "Attempt 2\n",
            "Attempt 3\n",
            "Attempt 4\n",
            "Attempt 5\n",
            "Done\n"
          ]
        }
      ]
    },
    {
      "cell_type": "code",
      "source": [
        "x = 1\n",
        "sum = 0\n",
        "while x < 10:\n",
        "  sum += x\n",
        "  x += 1\n",
        "\n",
        "print(x, sum)"
      ],
      "metadata": {
        "colab": {
          "base_uri": "https://localhost:8080/"
        },
        "id": "R-kLsv688dV9",
        "outputId": "40a867d8-3e59-429b-b7f9-d9fa26561986"
      },
      "execution_count": 8,
      "outputs": [
        {
          "output_type": "stream",
          "name": "stdout",
          "text": [
            "10 45\n"
          ]
        }
      ]
    },
    {
      "cell_type": "markdown",
      "source": [
        "Infinite Loop"
      ],
      "metadata": {
        "id": "sXfgbOlgA58T"
      }
    },
    {
      "cell_type": "code",
      "source": [
        "while x != 0 and x % 2 == 0:\n",
        "  x = x/2\n",
        "\n",
        "print(x)"
      ],
      "metadata": {
        "colab": {
          "base_uri": "https://localhost:8080/"
        },
        "id": "XwO9xTCXA7Sy",
        "outputId": "3d226499-334d-4b28-ed52-a3f4eab644c8"
      },
      "execution_count": 12,
      "outputs": [
        {
          "output_type": "stream",
          "name": "stdout",
          "text": [
            "5.0\n"
          ]
        }
      ]
    },
    {
      "cell_type": "markdown",
      "source": [
        "For Loops"
      ],
      "metadata": {
        "id": "X2hOcD8fDjaY"
      }
    },
    {
      "cell_type": "markdown",
      "source": [
        "All number in programming languages such as in Python, start number from 0"
      ],
      "metadata": {
        "id": "MqnKFXbBDsuf"
      }
    },
    {
      "cell_type": "code",
      "source": [
        "for x in range(5):\n",
        "  print(x)"
      ],
      "metadata": {
        "colab": {
          "base_uri": "https://localhost:8080/"
        },
        "id": "8hi9wT1pDYfU",
        "outputId": "50f63eec-69e3-46d1-cc3c-46c2eb45b761"
      },
      "execution_count": 13,
      "outputs": [
        {
          "output_type": "stream",
          "name": "stdout",
          "text": [
            "0\n",
            "1\n",
            "2\n",
            "3\n",
            "4\n"
          ]
        }
      ]
    },
    {
      "cell_type": "code",
      "source": [
        "friends = (\"Taylor\", \"Alex\", \"Pat\", \"Eli\")\n",
        "for friend in friends:\n",
        "  print(\"Hi \" + friend)"
      ],
      "metadata": {
        "colab": {
          "base_uri": "https://localhost:8080/"
        },
        "id": "td_pG7fZDz6H",
        "outputId": "33bf6908-25b2-47a8-e1d0-5eee80d5abff"
      },
      "execution_count": 14,
      "outputs": [
        {
          "output_type": "stream",
          "name": "stdout",
          "text": [
            "Hi Taylor\n",
            "Hi Alex\n",
            "Hi Pat\n",
            "Hi Eli\n"
          ]
        }
      ]
    },
    {
      "cell_type": "code",
      "source": [
        "values = (23, 52, 59, 37, 48)\n",
        "sum = 0\n",
        "length = 0\n",
        "for value in values:\n",
        "  sum += value\n",
        "  length += 1\n",
        "\n",
        "print(\"Total sum: \" + str(sum) + \" - Average: \" + str(sum/length))"
      ],
      "metadata": {
        "colab": {
          "base_uri": "https://localhost:8080/"
        },
        "id": "eHcRkueiFaUw",
        "outputId": "81539c99-9fd5-4259-97e6-41d96496afc6"
      },
      "execution_count": 15,
      "outputs": [
        {
          "output_type": "stream",
          "name": "stdout",
          "text": [
            "Total sum: 219 - Average: 43.8\n"
          ]
        }
      ]
    },
    {
      "cell_type": "markdown",
      "source": [
        "Use for loops when there's a sequence of element that you want to iterate\n",
        "\n",
        "Use while loops when you want to repeat an action until a condition changes"
      ],
      "metadata": {
        "id": "sQy5hk9eGe4k"
      }
    },
    {
      "cell_type": "code",
      "source": [],
      "metadata": {
        "id": "a187ZDAUG0Dv"
      },
      "execution_count": null,
      "outputs": []
    }
  ]
}