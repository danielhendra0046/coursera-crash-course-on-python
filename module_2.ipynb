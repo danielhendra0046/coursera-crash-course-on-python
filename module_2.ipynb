{
  "nbformat": 4,
  "nbformat_minor": 0,
  "metadata": {
    "colab": {
      "provenance": [],
      "authorship_tag": "ABX9TyPwyXQ2pakDqewUTZ8sycFB",
      "include_colab_link": true
    },
    "kernelspec": {
      "name": "python3",
      "display_name": "Python 3"
    },
    "language_info": {
      "name": "python"
    }
  },
  "cells": [
    {
      "cell_type": "markdown",
      "metadata": {
        "id": "view-in-github",
        "colab_type": "text"
      },
      "source": [
        "<a href=\"https://colab.research.google.com/github/danielhendra0046/coursera-crash-course-on-python/blob/master/module_2.ipynb\" target=\"_parent\"><img src=\"https://colab.research.google.com/assets/colab-badge.svg\" alt=\"Open In Colab\"/></a>"
      ]
    },
    {
      "cell_type": "markdown",
      "source": [
        "THIS PART, IS TO LEARN ABOUT https://www.coursera.org/learn/python-crash-course/home/module/2"
      ],
      "metadata": {
        "id": "CCZcF8SsbitB"
      }
    },
    {
      "cell_type": "code",
      "source": [],
      "metadata": {
        "id": "N3kAsEYZbv5e"
      },
      "execution_count": null,
      "outputs": []
    }
  ]
}