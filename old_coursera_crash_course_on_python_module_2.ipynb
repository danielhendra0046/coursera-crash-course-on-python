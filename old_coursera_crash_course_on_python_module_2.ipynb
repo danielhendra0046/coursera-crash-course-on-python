{
  "nbformat": 4,
  "nbformat_minor": 0,
  "metadata": {
    "colab": {
      "provenance": [],
      "authorship_tag": "ABX9TyMkpBJaJliWep8UnEiaRdp9",
      "include_colab_link": true
    },
    "kernelspec": {
      "name": "python3",
      "display_name": "Python 3"
    },
    "language_info": {
      "name": "python"
    }
  },
  "cells": [
    {
      "cell_type": "markdown",
      "metadata": {
        "id": "view-in-github",
        "colab_type": "text"
      },
      "source": [
        "<a href=\"https://colab.research.google.com/github/danielhendra0046/coursera-crash-course-on-python/blob/master/coursera_crash_course_on_python_module_2.ipynb\" target=\"_parent\"><img src=\"https://colab.research.google.com/assets/colab-badge.svg\" alt=\"Open In Colab\"/></a>"
      ]
    },
    {
      "cell_type": "markdown",
      "source": [
        "THIS PART, IS TO LEARN ABOUT https://www.coursera.org/learn/python-crash-course/home/module/2"
      ],
      "metadata": {
        "id": "CCZcF8SsbitB"
      }
    },
    {
      "cell_type": "markdown",
      "source": [
        "Variable: name that we given\n"
      ],
      "metadata": {
        "id": "NJlK-40Pd-Y2"
      }
    },
    {
      "cell_type": "code",
      "source": [
        "base = 5\n",
        "height = 3\n",
        "area = ((base*height)/2)\n",
        "\n",
        "print(area)"
      ],
      "metadata": {
        "colab": {
          "base_uri": "https://localhost:8080/"
        },
        "id": "N3kAsEYZbv5e",
        "outputId": "530296b0-cc1e-4133-9dba-a39cac7b16bd"
      },
      "execution_count": null,
      "outputs": [
        {
          "output_type": "stream",
          "name": "stdout",
          "text": [
            "7.5\n"
          ]
        }
      ]
    },
    {
      "cell_type": "code",
      "source": [
        "def greeting(name, department):\n",
        "  print(\"Welcome, \" + name)\n",
        "  print(\"You are part of \" + department)\n",
        "\n",
        "greeting(\"Daniel\", \"Manajemen Bisnis\")\n",
        "greeting(\"Emily\", \"Teknik Informatika\")"
      ],
      "metadata": {
        "colab": {
          "base_uri": "https://localhost:8080/"
        },
        "id": "xAIYlRqXhJhi",
        "outputId": "744e5639-e2d9-4cae-fc88-8e5f7aec0aaa"
      },
      "execution_count": null,
      "outputs": [
        {
          "output_type": "stream",
          "name": "stdout",
          "text": [
            "Welcome, Daniel\n",
            "You are part of Manajemen Bisnis\n",
            "Welcome, Emily\n",
            "You are part of Teknik Informatika\n"
          ]
        }
      ]
    },
    {
      "cell_type": "markdown",
      "source": [
        "Learn about Return"
      ],
      "metadata": {
        "id": "KLq7VOgVj6Jg"
      }
    },
    {
      "cell_type": "code",
      "source": [
        "def area_triangle(base, height):\n",
        "  return base*height/2\n",
        "\n",
        "area_a = area_triangle(5,4)\n",
        "area_b = area_triangle(7,3)\n",
        "sum = area_a + area_b\n",
        "\n",
        "print(\"The sum of both areas is: \" + str(sum))"
      ],
      "metadata": {
        "colab": {
          "base_uri": "https://localhost:8080/"
        },
        "id": "jg2HNBGij49Q",
        "outputId": "80aea339-6a9d-4ee1-9f90-6ccb48b22e6c"
      },
      "execution_count": null,
      "outputs": [
        {
          "output_type": "stream",
          "name": "stdout",
          "text": [
            "The sum of both areas is: 20.5\n"
          ]
        }
      ]
    },
    {
      "cell_type": "markdown",
      "source": [
        "Learn about return more complex"
      ],
      "metadata": {
        "id": "90anvWAhmFQz"
      }
    },
    {
      "cell_type": "code",
      "source": [
        "def convert_seconds(seconds):\n",
        "  hours = seconds // 3600\n",
        "  minutes = (seconds - hours * 3600) // 60\n",
        "  remaining_seconds = seconds - hours * 3600 - minutes * 60\n",
        "  return hours, minutes, remaining_seconds\n",
        "\n",
        "hours, minutes, seconds = convert_seconds(5000)\n",
        "\n",
        "print(hours, minutes, seconds)"
      ],
      "metadata": {
        "colab": {
          "base_uri": "https://localhost:8080/"
        },
        "id": "KKBn6GxqmHm7",
        "outputId": "951503b9-3049-4f88-eae4-30e65d9b8d3e"
      },
      "execution_count": null,
      "outputs": [
        {
          "output_type": "stream",
          "name": "stdout",
          "text": [
            "1 23 20\n"
          ]
        }
      ]
    },
    {
      "cell_type": "markdown",
      "source": [
        "Conditionals"
      ],
      "metadata": {
        "id": "erDpnkLtrtAe"
      }
    },
    {
      "cell_type": "code",
      "source": [
        "def hint_username(username):\n",
        "  if len(username) < 3:\n",
        "    print(\"Invalid username. Must be at least 3 characters long\")\n",
        "  elif len(username) > 15:\n",
        "    print(\"Invalid username. Must be at most 15 characters long\")\n",
        "  else:\n",
        "    print(\"valid username\")\n",
        "\n",
        "hint_username(\"danielhendraaaaaaaaaaaa\")"
      ],
      "metadata": {
        "colab": {
          "base_uri": "https://localhost:8080/"
        },
        "id": "RBAMV1vCrurL",
        "outputId": "ad3e4b0e-5df3-417c-8201-bc6c438c7b59"
      },
      "execution_count": null,
      "outputs": [
        {
          "output_type": "stream",
          "name": "stdout",
          "text": [
            "Invalid username. Must be at most 15 characters long\n"
          ]
        }
      ]
    }
  ]
}
